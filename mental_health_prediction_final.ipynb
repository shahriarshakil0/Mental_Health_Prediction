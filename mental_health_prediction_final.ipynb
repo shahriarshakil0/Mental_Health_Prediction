{
 "cells": [
  {
   "cell_type": "markdown",
   "metadata": {
    "id": "XwZ4kH0AslVA"
   },
   "source": [
    "***Project Title:*** Mental Health Prediction\n"
   ]
  },
  {
   "cell_type": "markdown",
   "metadata": {
    "id": "bImYBhxzsmtQ"
   },
   "source": [
    "Project Description: We're about to predict mental health of a random child under these criteria as follows....\n",
    "\n",
    "* Gender\n",
    "* Class\n",
    "* Acquiring Personal Interest\n",
    "* Going out though health risk\n",
    "* Studying properly\n",
    "* Concentrate on study\n",
    "* Participationg online class\n",
    "* Getting enough food\n",
    "* Feel anger to family members\n",
    "* Upbraid parents\n",
    "* spent quality times\n",
    "* Relatives house\n",
    "* Miss friend\n",
    "This dataset contains 15 questionnaire answers collected from online by google forms"
   ]
  },
  {
   "cell_type": "markdown",
   "metadata": {
    "id": "h2yvFNxosr14"
   },
   "source": [
    "***Import Library***"
   ]
  },
  {
   "cell_type": "code",
   "execution_count": 1,
   "metadata": {
    "id": "LZPD9YVnXJUh"
   },
   "outputs": [],
   "source": [
    "import pandas as pd\n",
    "import numpy as np\n",
    "from sklearn import tree\n",
    "import pydotplus\n",
    "from sklearn.preprocessing import LabelEncoder\n",
    "import matplotlib.pyplot as plt\n",
    "import matplotlib.image as pltimg\n",
    "import seaborn\n",
    "from sklearn.model_selection import train_test_split\n",
    "from sklearn.metrics import accuracy_score\n",
    "from sklearn.metrics import  confusion_matrix\n",
    "#from sklearn.metrics import plot_confusion_matrix\n",
    "from sklearn.metrics import classification_report"
   ]
  },
  {
   "cell_type": "markdown",
   "metadata": {
    "id": "QOwnwbUus3_L"
   },
   "source": [
    "***Read dataset to pandas dataframe***"
   ]
  },
  {
   "cell_type": "code",
   "execution_count": 2,
   "metadata": {
    "colab": {
     "base_uri": "https://localhost:8080/",
     "height": 419
    },
    "id": "3G7HGjRRXYQa",
    "outputId": "d9f3fe77-cf22-47c7-ebe2-5935d33670bb"
   },
   "outputs": [
    {
     "data": {
      "text/html": [
       "<div>\n",
       "<style scoped>\n",
       "    .dataframe tbody tr th:only-of-type {\n",
       "        vertical-align: middle;\n",
       "    }\n",
       "\n",
       "    .dataframe tbody tr th {\n",
       "        vertical-align: top;\n",
       "    }\n",
       "\n",
       "    .dataframe thead th {\n",
       "        text-align: right;\n",
       "    }\n",
       "</style>\n",
       "<table border=\"1\" class=\"dataframe\">\n",
       "  <thead>\n",
       "    <tr style=\"text-align: right;\">\n",
       "      <th></th>\n",
       "      <th>Timestamp</th>\n",
       "      <th>Name (নাম)</th>\n",
       "      <th>Age(বয়স)</th>\n",
       "      <th>Gender(লিঙ্গ)</th>\n",
       "      <th>Which class are you in?(তুমি কোন শ্রেণীতে পড়?)</th>\n",
       "      <th>District(জেলা)</th>\n",
       "      <th>What is your personal interest?(তুমি কি করতে পছন্দ করো?)</th>\n",
       "      <th>Can you acquire it now?(তোমার পছন্দের কাজটি তুমি কি এখন করতে পারতেছ?)</th>\n",
       "      <th>In spite of health risk do you want to go out to acquire it?(করোনা থাকা সত্ত্বেও তুমি কি বাইরে গিয়ে তোমার পছন্দের কাজটি করতে চাও?)</th>\n",
       "      <th>Do you think Covid-19 Pandemic hampers yours study?(তুমি কি মনে করো কোভিড-19 মহামারী তোমার পড়াশোনার ক্ষতি করছে?)</th>\n",
       "      <th>Can you concentrate in your study like before?(তুমি কি তোমার পড়াশোনায় আগের মত মনোযোগ দিতে পারতেছ?)</th>\n",
       "      <th>Do you know about online classes in Sangsad Tv?(সংসদ টিভিতে প্রচার হওয়া অনলাইন ক্লাস এর ব্যাপারে তুমি জানো কি?)</th>\n",
       "      <th>Are you participate online classes through Sangsad Tv arranged by govt?(সংসদ টিভিতে প্রচার হওয়া অনলাইন ক্লাসে তুমি অংশগ্রহণ করো?)</th>\n",
       "      <th>Can you have your favorite foods now?(তোমার প্রিয় খাবারগুলো তুমি কি এখন পাচ্ছ?)</th>\n",
       "      <th>Do you feel anger to anyone for not having the permission to do your favorite things?(তোমার প্রিয় কাজগুলো করতে না দেওয়ায় তোমার কি কারো উপর মন খারাপ?)</th>\n",
       "      <th>Do you get more upbraid from your parents about mischief in the house than before?(বাসায় দুষ্টুমি করার জন্য তোমার বাবা-মা কি তোমাকে আগের চেয়ে বেশি বকাবকি করে?)</th>\n",
       "      <th>Do you think because of this pandemic you spend more quality times with your family than before?(তুমি কি মনে করো এই মহামারীর প্রাদুর্ভাব এর ফলে তোমার পরিবার তোমাকে আগের চেয়ে বেশি সময় দিচ্ছে?)</th>\n",
       "      <th>relative_house</th>\n",
       "      <th>Do you miss the hangouts with your school friends?(তুমি কি তোমার স্কুলের বন্ধুদের সাথে সময় কাটানো কে মিস করছো?)</th>\n",
       "      <th>target</th>\n",
       "    </tr>\n",
       "  </thead>\n",
       "  <tbody>\n",
       "    <tr>\n",
       "      <td>0</td>\n",
       "      <td>2020/07/04 11:56:09 AM GMT+6</td>\n",
       "      <td>Meherajul Islam Shishir</td>\n",
       "      <td>16</td>\n",
       "      <td>Male</td>\n",
       "      <td>10</td>\n",
       "      <td>Chandpur</td>\n",
       "      <td>Playing outside</td>\n",
       "      <td>No</td>\n",
       "      <td>No</td>\n",
       "      <td>Yes</td>\n",
       "      <td>No</td>\n",
       "      <td>Yes</td>\n",
       "      <td>No</td>\n",
       "      <td>No</td>\n",
       "      <td>Yes</td>\n",
       "      <td>Sometimes</td>\n",
       "      <td>Yes</td>\n",
       "      <td>No</td>\n",
       "      <td>Yes</td>\n",
       "      <td>Partial</td>\n",
       "    </tr>\n",
       "    <tr>\n",
       "      <td>1</td>\n",
       "      <td>2020/07/04 12:10:00 PM GMT+6</td>\n",
       "      <td>Ishrat Jahan</td>\n",
       "      <td>15</td>\n",
       "      <td>Female</td>\n",
       "      <td>10</td>\n",
       "      <td>Rangpur</td>\n",
       "      <td>Drawing</td>\n",
       "      <td>Yes</td>\n",
       "      <td>No</td>\n",
       "      <td>Yes</td>\n",
       "      <td>Yes</td>\n",
       "      <td>Yes</td>\n",
       "      <td>Sometimes</td>\n",
       "      <td>Yes</td>\n",
       "      <td>Yes</td>\n",
       "      <td>No</td>\n",
       "      <td>No</td>\n",
       "      <td>No</td>\n",
       "      <td>Yes</td>\n",
       "      <td>Partial</td>\n",
       "    </tr>\n",
       "    <tr>\n",
       "      <td>2</td>\n",
       "      <td>2020/07/04 12:12:26 PM GMT+6</td>\n",
       "      <td>Md. Nasiruddin</td>\n",
       "      <td>14</td>\n",
       "      <td>Male</td>\n",
       "      <td>8</td>\n",
       "      <td>Bogura</td>\n",
       "      <td>Fishing</td>\n",
       "      <td>Yes</td>\n",
       "      <td>Not necessary</td>\n",
       "      <td>Yes</td>\n",
       "      <td>No</td>\n",
       "      <td>No</td>\n",
       "      <td>No</td>\n",
       "      <td>No</td>\n",
       "      <td>No</td>\n",
       "      <td>Yes</td>\n",
       "      <td>Yes</td>\n",
       "      <td>Yes</td>\n",
       "      <td>Yes</td>\n",
       "      <td>Partial</td>\n",
       "    </tr>\n",
       "    <tr>\n",
       "      <td>3</td>\n",
       "      <td>2020/07/04 12:18:11 PM GMT+6</td>\n",
       "      <td>Md. Shihab Hossain</td>\n",
       "      <td>12</td>\n",
       "      <td>Male</td>\n",
       "      <td>7</td>\n",
       "      <td>Bogura</td>\n",
       "      <td>Traveling</td>\n",
       "      <td>No</td>\n",
       "      <td>No</td>\n",
       "      <td>Yes</td>\n",
       "      <td>No</td>\n",
       "      <td>Yes</td>\n",
       "      <td>Sometimes</td>\n",
       "      <td>Yes</td>\n",
       "      <td>No</td>\n",
       "      <td>Sometimes</td>\n",
       "      <td>Yes</td>\n",
       "      <td>Yes</td>\n",
       "      <td>Yes</td>\n",
       "      <td>Partial</td>\n",
       "    </tr>\n",
       "    <tr>\n",
       "      <td>4</td>\n",
       "      <td>2020/07/04 12:18:19 PM GMT+6</td>\n",
       "      <td>Mahfuz Hossain</td>\n",
       "      <td>14</td>\n",
       "      <td>Male</td>\n",
       "      <td>7</td>\n",
       "      <td>Chandpur</td>\n",
       "      <td>Playing outside</td>\n",
       "      <td>No</td>\n",
       "      <td>No</td>\n",
       "      <td>Yes</td>\n",
       "      <td>No</td>\n",
       "      <td>Yes</td>\n",
       "      <td>No</td>\n",
       "      <td>No</td>\n",
       "      <td>No</td>\n",
       "      <td>Yes</td>\n",
       "      <td>Yes</td>\n",
       "      <td>Yes</td>\n",
       "      <td>Yes</td>\n",
       "      <td>Yes</td>\n",
       "    </tr>\n",
       "    <tr>\n",
       "      <td>...</td>\n",
       "      <td>...</td>\n",
       "      <td>...</td>\n",
       "      <td>...</td>\n",
       "      <td>...</td>\n",
       "      <td>...</td>\n",
       "      <td>...</td>\n",
       "      <td>...</td>\n",
       "      <td>...</td>\n",
       "      <td>...</td>\n",
       "      <td>...</td>\n",
       "      <td>...</td>\n",
       "      <td>...</td>\n",
       "      <td>...</td>\n",
       "      <td>...</td>\n",
       "      <td>...</td>\n",
       "      <td>...</td>\n",
       "      <td>...</td>\n",
       "      <td>...</td>\n",
       "      <td>...</td>\n",
       "      <td>...</td>\n",
       "    </tr>\n",
       "    <tr>\n",
       "      <td>696</td>\n",
       "      <td>2020/12/23 12:29:28 PM GMT+6</td>\n",
       "      <td>Shohan</td>\n",
       "      <td>17</td>\n",
       "      <td>Male</td>\n",
       "      <td>10</td>\n",
       "      <td>Bogura</td>\n",
       "      <td>Paying outside</td>\n",
       "      <td>No</td>\n",
       "      <td>No</td>\n",
       "      <td>Yes</td>\n",
       "      <td>No</td>\n",
       "      <td>No</td>\n",
       "      <td>No</td>\n",
       "      <td>No</td>\n",
       "      <td>Yes</td>\n",
       "      <td>Yes</td>\n",
       "      <td>Yes</td>\n",
       "      <td>Yes</td>\n",
       "      <td>Yes</td>\n",
       "      <td>Yes</td>\n",
       "    </tr>\n",
       "    <tr>\n",
       "      <td>697</td>\n",
       "      <td>2020/12/23 12:30:47 PM GMT+6</td>\n",
       "      <td>Risha</td>\n",
       "      <td>9</td>\n",
       "      <td>Female</td>\n",
       "      <td>4</td>\n",
       "      <td>Bogura</td>\n",
       "      <td>Reading books</td>\n",
       "      <td>Partial</td>\n",
       "      <td>No</td>\n",
       "      <td>Yes</td>\n",
       "      <td>No</td>\n",
       "      <td>Yes</td>\n",
       "      <td>Sometimes</td>\n",
       "      <td>Little bit</td>\n",
       "      <td>No</td>\n",
       "      <td>Sometimes</td>\n",
       "      <td>Yes</td>\n",
       "      <td>Yes</td>\n",
       "      <td>Yes</td>\n",
       "      <td>Partial</td>\n",
       "    </tr>\n",
       "    <tr>\n",
       "      <td>698</td>\n",
       "      <td>2020/12/23 12:33:37 PM GMT+6</td>\n",
       "      <td>Rifat</td>\n",
       "      <td>5</td>\n",
       "      <td>Male</td>\n",
       "      <td>1</td>\n",
       "      <td>Bogura</td>\n",
       "      <td>Playing outside</td>\n",
       "      <td>No</td>\n",
       "      <td>Yes</td>\n",
       "      <td>No</td>\n",
       "      <td>Yes</td>\n",
       "      <td>No</td>\n",
       "      <td>No</td>\n",
       "      <td>Yes</td>\n",
       "      <td>No</td>\n",
       "      <td>No</td>\n",
       "      <td>Yes</td>\n",
       "      <td>Yes</td>\n",
       "      <td>No</td>\n",
       "      <td>Partial</td>\n",
       "    </tr>\n",
       "    <tr>\n",
       "      <td>699</td>\n",
       "      <td>2020/12/23 12:34:37 PM GMT+6</td>\n",
       "      <td>Maya</td>\n",
       "      <td>5</td>\n",
       "      <td>Female</td>\n",
       "      <td>1</td>\n",
       "      <td>Bogura</td>\n",
       "      <td>Watching tv</td>\n",
       "      <td>Yes</td>\n",
       "      <td>No</td>\n",
       "      <td>May be</td>\n",
       "      <td>No</td>\n",
       "      <td>No</td>\n",
       "      <td>No</td>\n",
       "      <td>Yes</td>\n",
       "      <td>No</td>\n",
       "      <td>Yes</td>\n",
       "      <td>Yes</td>\n",
       "      <td>Yes</td>\n",
       "      <td>Yes</td>\n",
       "      <td>Partial</td>\n",
       "    </tr>\n",
       "    <tr>\n",
       "      <td>700</td>\n",
       "      <td>2020/12/23 12:36:32 PM GMT+6</td>\n",
       "      <td>Toma</td>\n",
       "      <td>16</td>\n",
       "      <td>Female</td>\n",
       "      <td>9</td>\n",
       "      <td>Bogura</td>\n",
       "      <td>Sleeping</td>\n",
       "      <td>Partial</td>\n",
       "      <td>No</td>\n",
       "      <td>Yes</td>\n",
       "      <td>No</td>\n",
       "      <td>Yes</td>\n",
       "      <td>No</td>\n",
       "      <td>Little bit</td>\n",
       "      <td>Yes</td>\n",
       "      <td>Yes</td>\n",
       "      <td>Yes</td>\n",
       "      <td>Yes</td>\n",
       "      <td>Yes</td>\n",
       "      <td>Yes</td>\n",
       "    </tr>\n",
       "  </tbody>\n",
       "</table>\n",
       "<p>701 rows × 20 columns</p>\n",
       "</div>"
      ],
      "text/plain": [
       "                        Timestamp               Name (নাম)  Age(বয়স)  \\\n",
       "0    2020/07/04 11:56:09 AM GMT+6  Meherajul Islam Shishir         16   \n",
       "1    2020/07/04 12:10:00 PM GMT+6             Ishrat Jahan         15   \n",
       "2    2020/07/04 12:12:26 PM GMT+6           Md. Nasiruddin         14   \n",
       "3    2020/07/04 12:18:11 PM GMT+6       Md. Shihab Hossain         12   \n",
       "4    2020/07/04 12:18:19 PM GMT+6           Mahfuz Hossain         14   \n",
       "..                            ...                      ...        ...   \n",
       "696  2020/12/23 12:29:28 PM GMT+6                   Shohan         17   \n",
       "697  2020/12/23 12:30:47 PM GMT+6                    Risha          9   \n",
       "698  2020/12/23 12:33:37 PM GMT+6                    Rifat          5   \n",
       "699  2020/12/23 12:34:37 PM GMT+6                     Maya          5   \n",
       "700  2020/12/23 12:36:32 PM GMT+6                     Toma         16   \n",
       "\n",
       "    Gender(লিঙ্গ)  Which class are you in?(তুমি কোন শ্রেণীতে পড়?)  \\\n",
       "0            Male                                               10   \n",
       "1          Female                                               10   \n",
       "2            Male                                                8   \n",
       "3            Male                                                7   \n",
       "4            Male                                                7   \n",
       "..            ...                                              ...   \n",
       "696          Male                                               10   \n",
       "697        Female                                                4   \n",
       "698          Male                                                1   \n",
       "699        Female                                                1   \n",
       "700        Female                                                9   \n",
       "\n",
       "    District(জেলা) What is your personal interest?(তুমি কি করতে পছন্দ করো?)  \\\n",
       "0         Chandpur                                   Playing outside          \n",
       "1          Rangpur                                            Drawing         \n",
       "2           Bogura                                            Fishing         \n",
       "3           Bogura                                          Traveling         \n",
       "4         Chandpur                                   Playing outside          \n",
       "..             ...                                                ...         \n",
       "696         Bogura                                     Paying outside         \n",
       "697         Bogura                                      Reading books         \n",
       "698         Bogura                                    Playing outside         \n",
       "699         Bogura                                        Watching tv         \n",
       "700         Bogura                                           Sleeping         \n",
       "\n",
       "    Can you acquire it now?(তোমার পছন্দের কাজটি তুমি কি এখন করতে পারতেছ?)  \\\n",
       "0                                                   No                      \n",
       "1                                                  Yes                      \n",
       "2                                                  Yes                      \n",
       "3                                                   No                      \n",
       "4                                                   No                      \n",
       "..                                                 ...                      \n",
       "696                                                 No                      \n",
       "697                                            Partial                      \n",
       "698                                                 No                      \n",
       "699                                                Yes                      \n",
       "700                                            Partial                      \n",
       "\n",
       "    In spite of health risk do you want to go out to acquire it?(করোনা থাকা সত্ত্বেও তুমি কি বাইরে গিয়ে তোমার পছন্দের কাজটি করতে চাও?)  \\\n",
       "0                                                   No                                                                                    \n",
       "1                                                   No                                                                                    \n",
       "2                                        Not necessary                                                                                    \n",
       "3                                                   No                                                                                    \n",
       "4                                                   No                                                                                    \n",
       "..                                                 ...                                                                                    \n",
       "696                                                 No                                                                                    \n",
       "697                                                 No                                                                                    \n",
       "698                                                Yes                                                                                    \n",
       "699                                                 No                                                                                    \n",
       "700                                                 No                                                                                    \n",
       "\n",
       "    Do you think Covid-19 Pandemic hampers yours study?(তুমি কি মনে করো কোভিড-19 মহামারী তোমার পড়াশোনার ক্ষতি করছে?)  \\\n",
       "0                                                  Yes                                                                  \n",
       "1                                                  Yes                                                                  \n",
       "2                                                  Yes                                                                  \n",
       "3                                                  Yes                                                                  \n",
       "4                                                  Yes                                                                  \n",
       "..                                                 ...                                                                  \n",
       "696                                                Yes                                                                  \n",
       "697                                                Yes                                                                  \n",
       "698                                                 No                                                                  \n",
       "699                                             May be                                                                  \n",
       "700                                                Yes                                                                  \n",
       "\n",
       "    Can you concentrate in your study like before?(তুমি কি তোমার পড়াশোনায় আগের মত মনোযোগ দিতে পারতেছ?)  \\\n",
       "0                                                   No                                                     \n",
       "1                                                  Yes                                                     \n",
       "2                                                   No                                                     \n",
       "3                                                   No                                                     \n",
       "4                                                   No                                                     \n",
       "..                                                 ...                                                     \n",
       "696                                                 No                                                     \n",
       "697                                                 No                                                     \n",
       "698                                                Yes                                                     \n",
       "699                                                 No                                                     \n",
       "700                                                 No                                                     \n",
       "\n",
       "    Do you know about online classes in Sangsad Tv?(সংসদ টিভিতে প্রচার হওয়া অনলাইন ক্লাস এর ব্যাপারে তুমি জানো কি?)  \\\n",
       "0                                                  Yes                                                                 \n",
       "1                                                  Yes                                                                 \n",
       "2                                                   No                                                                 \n",
       "3                                                  Yes                                                                 \n",
       "4                                                  Yes                                                                 \n",
       "..                                                 ...                                                                 \n",
       "696                                                 No                                                                 \n",
       "697                                                Yes                                                                 \n",
       "698                                                 No                                                                 \n",
       "699                                                 No                                                                 \n",
       "700                                                Yes                                                                 \n",
       "\n",
       "    Are you participate online classes through Sangsad Tv arranged by govt?(সংসদ টিভিতে প্রচার হওয়া অনলাইন ক্লাসে তুমি অংশগ্রহণ করো?)  \\\n",
       "0                                                   No                                                                                   \n",
       "1                                            Sometimes                                                                                   \n",
       "2                                                   No                                                                                   \n",
       "3                                            Sometimes                                                                                   \n",
       "4                                                   No                                                                                   \n",
       "..                                                 ...                                                                                   \n",
       "696                                                 No                                                                                   \n",
       "697                                          Sometimes                                                                                   \n",
       "698                                                 No                                                                                   \n",
       "699                                                 No                                                                                   \n",
       "700                                                 No                                                                                   \n",
       "\n",
       "    Can you have your favorite foods now?(তোমার প্রিয় খাবারগুলো তুমি কি এখন পাচ্ছ?)  \\\n",
       "0                                                   No                                 \n",
       "1                                                  Yes                                 \n",
       "2                                                   No                                 \n",
       "3                                                  Yes                                 \n",
       "4                                                   No                                 \n",
       "..                                                 ...                                 \n",
       "696                                                 No                                 \n",
       "697                                         Little bit                                 \n",
       "698                                                Yes                                 \n",
       "699                                                Yes                                 \n",
       "700                                         Little bit                                 \n",
       "\n",
       "    Do you feel anger to anyone for not having the permission to do your favorite things?(তোমার প্রিয় কাজগুলো করতে না দেওয়ায় তোমার কি কারো উপর মন খারাপ?)  \\\n",
       "0                                                  Yes                                                                                                         \n",
       "1                                                  Yes                                                                                                         \n",
       "2                                                   No                                                                                                         \n",
       "3                                                   No                                                                                                         \n",
       "4                                                   No                                                                                                         \n",
       "..                                                 ...                                                                                                         \n",
       "696                                                Yes                                                                                                         \n",
       "697                                                 No                                                                                                         \n",
       "698                                                 No                                                                                                         \n",
       "699                                                 No                                                                                                         \n",
       "700                                                Yes                                                                                                         \n",
       "\n",
       "    Do you get more upbraid from your parents about mischief in the house than before?(বাসায় দুষ্টুমি করার জন্য তোমার বাবা-মা কি তোমাকে আগের চেয়ে বেশি বকাবকি করে?)  \\\n",
       "0                                            Sometimes                                                                                                                  \n",
       "1                                                   No                                                                                                                  \n",
       "2                                                  Yes                                                                                                                  \n",
       "3                                            Sometimes                                                                                                                  \n",
       "4                                                  Yes                                                                                                                  \n",
       "..                                                 ...                                                                                                                  \n",
       "696                                                Yes                                                                                                                  \n",
       "697                                          Sometimes                                                                                                                  \n",
       "698                                                 No                                                                                                                  \n",
       "699                                                Yes                                                                                                                  \n",
       "700                                                Yes                                                                                                                  \n",
       "\n",
       "    Do you think because of this pandemic you spend more quality times with your family than before?(তুমি কি মনে করো এই মহামারীর প্রাদুর্ভাব এর ফলে তোমার পরিবার তোমাকে আগের চেয়ে বেশি সময় দিচ্ছে?)  \\\n",
       "0                                                  Yes                                                                                                                                                  \n",
       "1                                                   No                                                                                                                                                  \n",
       "2                                                  Yes                                                                                                                                                  \n",
       "3                                                  Yes                                                                                                                                                  \n",
       "4                                                  Yes                                                                                                                                                  \n",
       "..                                                 ...                                                                                                                                                  \n",
       "696                                                Yes                                                                                                                                                  \n",
       "697                                                Yes                                                                                                                                                  \n",
       "698                                                Yes                                                                                                                                                  \n",
       "699                                                Yes                                                                                                                                                  \n",
       "700                                                Yes                                                                                                                                                  \n",
       "\n",
       "    relative_house  \\\n",
       "0               No   \n",
       "1               No   \n",
       "2              Yes   \n",
       "3              Yes   \n",
       "4              Yes   \n",
       "..             ...   \n",
       "696            Yes   \n",
       "697            Yes   \n",
       "698            Yes   \n",
       "699            Yes   \n",
       "700            Yes   \n",
       "\n",
       "    Do you miss the hangouts with your school friends?(তুমি কি তোমার স্কুলের বন্ধুদের সাথে সময় কাটানো কে মিস করছো?)  \\\n",
       "0                                                  Yes                                                                 \n",
       "1                                                  Yes                                                                 \n",
       "2                                                  Yes                                                                 \n",
       "3                                                  Yes                                                                 \n",
       "4                                                  Yes                                                                 \n",
       "..                                                 ...                                                                 \n",
       "696                                                Yes                                                                 \n",
       "697                                                Yes                                                                 \n",
       "698                                                 No                                                                 \n",
       "699                                                Yes                                                                 \n",
       "700                                                Yes                                                                 \n",
       "\n",
       "      target  \n",
       "0    Partial  \n",
       "1    Partial  \n",
       "2    Partial  \n",
       "3    Partial  \n",
       "4        Yes  \n",
       "..       ...  \n",
       "696      Yes  \n",
       "697  Partial  \n",
       "698  Partial  \n",
       "699  Partial  \n",
       "700      Yes  \n",
       "\n",
       "[701 rows x 20 columns]"
      ]
     },
     "execution_count": 2,
     "metadata": {},
     "output_type": "execute_result"
    }
   ],
   "source": [
    "df=pd.read_csv('Data')\n",
    "df"
   ]
  },
  {
   "cell_type": "code",
   "execution_count": 3,
   "metadata": {},
   "outputs": [],
   "source": [
    "df = df.rename(columns= {'Gender(লিঙ্গ)' : 'gender'})\n",
    "df = df.rename(columns= {'Which class are you in?(তুমি কোন শ্রেণীতে পড়?)' : 'class'})\n",
    "df = df.rename(columns= {'Can you acquire it now?(তোমার পছন্দের কাজটি তুমি কি এখন করতে পারতেছ?)' : 'acquire_personal_interest'})\n",
    "df = df.rename(columns= {'In spite of health risk do you want to go out to acquire it?(করোনা থাকা সত্ত্বেও তুমি কি বাইরে গিয়ে তোমার পছন্দের কাজটি করতে চাও?)' : 'go_outside'})\n",
    "df = df.rename(columns= {'Do you think Covid-19 Pandemic hampers yours study?(তুমি কি মনে করো কোভিড-19 মহামারী তোমার পড়াশোনার ক্ষতি করছে?)' : 'hamper_study'})\n",
    "df = df.rename(columns= {'Can you concentrate in your study like before?(তুমি কি তোমার পড়াশোনায় আগের মত মনোযোগ দিতে পারতেছ?)' : 'concentrate_study'})\n",
    "df = df.rename(columns= {'Are you participate online classes through Sangsad Tv arranged by govt?(সংসদ টিভিতে প্রচার হওয়া অনলাইন ক্লাসে তুমি অংশগ্রহণ করো?)' : 'participate_online_class'})\n",
    "df = df.rename(columns= {'Can you have your favorite foods now?(তোমার প্রিয় খাবারগুলো তুমি কি এখন পাচ্ছ?)' : 'favorite_food'})\n",
    "df = df.rename(columns= {'Do you feel anger to anyone for not having the permission to do your favorite things?(তোমার প্রিয় কাজগুলো করতে না দেওয়ায় তোমার কি কারো উপর মন খারাপ?)' : 'feel_anger'})\n",
    "df = df.rename(columns= {'Do you get more upbraid from your parents about mischief in the house than before?(বাসায় দুষ্টুমি করার জন্য তোমার বাবা-মা কি তোমাকে আগের চেয়ে বেশি বকাবকি করে?)' : 'upbraid'})\n",
    "df = df.rename(columns= {'Do you think because of this pandemic you spend more quality times with your family than before?(তুমি কি মনে করো এই মহামারীর প্রাদুর্ভাব এর ফলে তোমার পরিবার তোমাকে আগের চেয়ে বেশি সময় দিচ্ছে?)' : 'spend_quality_time'})\n",
    "df = df.rename(columns= {'Do you miss the hangouts with your school friends?(তুমি কি তোমার স্কুলের বন্ধুদের সাথে সময় কাটানো কে মিস করছো?)' : 'hangouts'})"
   ]
  },
  {
   "cell_type": "code",
   "execution_count": 4,
   "metadata": {},
   "outputs": [
    {
     "data": {
      "text/html": [
       "<div>\n",
       "<style scoped>\n",
       "    .dataframe tbody tr th:only-of-type {\n",
       "        vertical-align: middle;\n",
       "    }\n",
       "\n",
       "    .dataframe tbody tr th {\n",
       "        vertical-align: top;\n",
       "    }\n",
       "\n",
       "    .dataframe thead th {\n",
       "        text-align: right;\n",
       "    }\n",
       "</style>\n",
       "<table border=\"1\" class=\"dataframe\">\n",
       "  <thead>\n",
       "    <tr style=\"text-align: right;\">\n",
       "      <th></th>\n",
       "      <th>Timestamp</th>\n",
       "      <th>Name (নাম)</th>\n",
       "      <th>Age(বয়স)</th>\n",
       "      <th>gender</th>\n",
       "      <th>class</th>\n",
       "      <th>District(জেলা)</th>\n",
       "      <th>What is your personal interest?(তুমি কি করতে পছন্দ করো?)</th>\n",
       "      <th>acquire_personal_interest</th>\n",
       "      <th>go_outside</th>\n",
       "      <th>hamper_study</th>\n",
       "      <th>concentrate_study</th>\n",
       "      <th>Do you know about online classes in Sangsad Tv?(সংসদ টিভিতে প্রচার হওয়া অনলাইন ক্লাস এর ব্যাপারে তুমি জানো কি?)</th>\n",
       "      <th>participate_online_class</th>\n",
       "      <th>favorite_food</th>\n",
       "      <th>feel_anger</th>\n",
       "      <th>upbraid</th>\n",
       "      <th>spend_quality_time</th>\n",
       "      <th>relative_house</th>\n",
       "      <th>hangouts</th>\n",
       "      <th>target</th>\n",
       "    </tr>\n",
       "  </thead>\n",
       "  <tbody>\n",
       "    <tr>\n",
       "      <td>0</td>\n",
       "      <td>2020/07/04 11:56:09 AM GMT+6</td>\n",
       "      <td>Meherajul Islam Shishir</td>\n",
       "      <td>16</td>\n",
       "      <td>Male</td>\n",
       "      <td>10</td>\n",
       "      <td>Chandpur</td>\n",
       "      <td>Playing outside</td>\n",
       "      <td>No</td>\n",
       "      <td>No</td>\n",
       "      <td>Yes</td>\n",
       "      <td>No</td>\n",
       "      <td>Yes</td>\n",
       "      <td>No</td>\n",
       "      <td>No</td>\n",
       "      <td>Yes</td>\n",
       "      <td>Sometimes</td>\n",
       "      <td>Yes</td>\n",
       "      <td>No</td>\n",
       "      <td>Yes</td>\n",
       "      <td>Partial</td>\n",
       "    </tr>\n",
       "    <tr>\n",
       "      <td>1</td>\n",
       "      <td>2020/07/04 12:10:00 PM GMT+6</td>\n",
       "      <td>Ishrat Jahan</td>\n",
       "      <td>15</td>\n",
       "      <td>Female</td>\n",
       "      <td>10</td>\n",
       "      <td>Rangpur</td>\n",
       "      <td>Drawing</td>\n",
       "      <td>Yes</td>\n",
       "      <td>No</td>\n",
       "      <td>Yes</td>\n",
       "      <td>Yes</td>\n",
       "      <td>Yes</td>\n",
       "      <td>Sometimes</td>\n",
       "      <td>Yes</td>\n",
       "      <td>Yes</td>\n",
       "      <td>No</td>\n",
       "      <td>No</td>\n",
       "      <td>No</td>\n",
       "      <td>Yes</td>\n",
       "      <td>Partial</td>\n",
       "    </tr>\n",
       "    <tr>\n",
       "      <td>2</td>\n",
       "      <td>2020/07/04 12:12:26 PM GMT+6</td>\n",
       "      <td>Md. Nasiruddin</td>\n",
       "      <td>14</td>\n",
       "      <td>Male</td>\n",
       "      <td>8</td>\n",
       "      <td>Bogura</td>\n",
       "      <td>Fishing</td>\n",
       "      <td>Yes</td>\n",
       "      <td>Not necessary</td>\n",
       "      <td>Yes</td>\n",
       "      <td>No</td>\n",
       "      <td>No</td>\n",
       "      <td>No</td>\n",
       "      <td>No</td>\n",
       "      <td>No</td>\n",
       "      <td>Yes</td>\n",
       "      <td>Yes</td>\n",
       "      <td>Yes</td>\n",
       "      <td>Yes</td>\n",
       "      <td>Partial</td>\n",
       "    </tr>\n",
       "    <tr>\n",
       "      <td>3</td>\n",
       "      <td>2020/07/04 12:18:11 PM GMT+6</td>\n",
       "      <td>Md. Shihab Hossain</td>\n",
       "      <td>12</td>\n",
       "      <td>Male</td>\n",
       "      <td>7</td>\n",
       "      <td>Bogura</td>\n",
       "      <td>Traveling</td>\n",
       "      <td>No</td>\n",
       "      <td>No</td>\n",
       "      <td>Yes</td>\n",
       "      <td>No</td>\n",
       "      <td>Yes</td>\n",
       "      <td>Sometimes</td>\n",
       "      <td>Yes</td>\n",
       "      <td>No</td>\n",
       "      <td>Sometimes</td>\n",
       "      <td>Yes</td>\n",
       "      <td>Yes</td>\n",
       "      <td>Yes</td>\n",
       "      <td>Partial</td>\n",
       "    </tr>\n",
       "    <tr>\n",
       "      <td>4</td>\n",
       "      <td>2020/07/04 12:18:19 PM GMT+6</td>\n",
       "      <td>Mahfuz Hossain</td>\n",
       "      <td>14</td>\n",
       "      <td>Male</td>\n",
       "      <td>7</td>\n",
       "      <td>Chandpur</td>\n",
       "      <td>Playing outside</td>\n",
       "      <td>No</td>\n",
       "      <td>No</td>\n",
       "      <td>Yes</td>\n",
       "      <td>No</td>\n",
       "      <td>Yes</td>\n",
       "      <td>No</td>\n",
       "      <td>No</td>\n",
       "      <td>No</td>\n",
       "      <td>Yes</td>\n",
       "      <td>Yes</td>\n",
       "      <td>Yes</td>\n",
       "      <td>Yes</td>\n",
       "      <td>Yes</td>\n",
       "    </tr>\n",
       "    <tr>\n",
       "      <td>...</td>\n",
       "      <td>...</td>\n",
       "      <td>...</td>\n",
       "      <td>...</td>\n",
       "      <td>...</td>\n",
       "      <td>...</td>\n",
       "      <td>...</td>\n",
       "      <td>...</td>\n",
       "      <td>...</td>\n",
       "      <td>...</td>\n",
       "      <td>...</td>\n",
       "      <td>...</td>\n",
       "      <td>...</td>\n",
       "      <td>...</td>\n",
       "      <td>...</td>\n",
       "      <td>...</td>\n",
       "      <td>...</td>\n",
       "      <td>...</td>\n",
       "      <td>...</td>\n",
       "      <td>...</td>\n",
       "      <td>...</td>\n",
       "    </tr>\n",
       "    <tr>\n",
       "      <td>696</td>\n",
       "      <td>2020/12/23 12:29:28 PM GMT+6</td>\n",
       "      <td>Shohan</td>\n",
       "      <td>17</td>\n",
       "      <td>Male</td>\n",
       "      <td>10</td>\n",
       "      <td>Bogura</td>\n",
       "      <td>Paying outside</td>\n",
       "      <td>No</td>\n",
       "      <td>No</td>\n",
       "      <td>Yes</td>\n",
       "      <td>No</td>\n",
       "      <td>No</td>\n",
       "      <td>No</td>\n",
       "      <td>No</td>\n",
       "      <td>Yes</td>\n",
       "      <td>Yes</td>\n",
       "      <td>Yes</td>\n",
       "      <td>Yes</td>\n",
       "      <td>Yes</td>\n",
       "      <td>Yes</td>\n",
       "    </tr>\n",
       "    <tr>\n",
       "      <td>697</td>\n",
       "      <td>2020/12/23 12:30:47 PM GMT+6</td>\n",
       "      <td>Risha</td>\n",
       "      <td>9</td>\n",
       "      <td>Female</td>\n",
       "      <td>4</td>\n",
       "      <td>Bogura</td>\n",
       "      <td>Reading books</td>\n",
       "      <td>Partial</td>\n",
       "      <td>No</td>\n",
       "      <td>Yes</td>\n",
       "      <td>No</td>\n",
       "      <td>Yes</td>\n",
       "      <td>Sometimes</td>\n",
       "      <td>Little bit</td>\n",
       "      <td>No</td>\n",
       "      <td>Sometimes</td>\n",
       "      <td>Yes</td>\n",
       "      <td>Yes</td>\n",
       "      <td>Yes</td>\n",
       "      <td>Partial</td>\n",
       "    </tr>\n",
       "    <tr>\n",
       "      <td>698</td>\n",
       "      <td>2020/12/23 12:33:37 PM GMT+6</td>\n",
       "      <td>Rifat</td>\n",
       "      <td>5</td>\n",
       "      <td>Male</td>\n",
       "      <td>1</td>\n",
       "      <td>Bogura</td>\n",
       "      <td>Playing outside</td>\n",
       "      <td>No</td>\n",
       "      <td>Yes</td>\n",
       "      <td>No</td>\n",
       "      <td>Yes</td>\n",
       "      <td>No</td>\n",
       "      <td>No</td>\n",
       "      <td>Yes</td>\n",
       "      <td>No</td>\n",
       "      <td>No</td>\n",
       "      <td>Yes</td>\n",
       "      <td>Yes</td>\n",
       "      <td>No</td>\n",
       "      <td>Partial</td>\n",
       "    </tr>\n",
       "    <tr>\n",
       "      <td>699</td>\n",
       "      <td>2020/12/23 12:34:37 PM GMT+6</td>\n",
       "      <td>Maya</td>\n",
       "      <td>5</td>\n",
       "      <td>Female</td>\n",
       "      <td>1</td>\n",
       "      <td>Bogura</td>\n",
       "      <td>Watching tv</td>\n",
       "      <td>Yes</td>\n",
       "      <td>No</td>\n",
       "      <td>May be</td>\n",
       "      <td>No</td>\n",
       "      <td>No</td>\n",
       "      <td>No</td>\n",
       "      <td>Yes</td>\n",
       "      <td>No</td>\n",
       "      <td>Yes</td>\n",
       "      <td>Yes</td>\n",
       "      <td>Yes</td>\n",
       "      <td>Yes</td>\n",
       "      <td>Partial</td>\n",
       "    </tr>\n",
       "    <tr>\n",
       "      <td>700</td>\n",
       "      <td>2020/12/23 12:36:32 PM GMT+6</td>\n",
       "      <td>Toma</td>\n",
       "      <td>16</td>\n",
       "      <td>Female</td>\n",
       "      <td>9</td>\n",
       "      <td>Bogura</td>\n",
       "      <td>Sleeping</td>\n",
       "      <td>Partial</td>\n",
       "      <td>No</td>\n",
       "      <td>Yes</td>\n",
       "      <td>No</td>\n",
       "      <td>Yes</td>\n",
       "      <td>No</td>\n",
       "      <td>Little bit</td>\n",
       "      <td>Yes</td>\n",
       "      <td>Yes</td>\n",
       "      <td>Yes</td>\n",
       "      <td>Yes</td>\n",
       "      <td>Yes</td>\n",
       "      <td>Yes</td>\n",
       "    </tr>\n",
       "  </tbody>\n",
       "</table>\n",
       "<p>701 rows × 20 columns</p>\n",
       "</div>"
      ],
      "text/plain": [
       "                        Timestamp               Name (নাম)  Age(বয়স)  gender  \\\n",
       "0    2020/07/04 11:56:09 AM GMT+6  Meherajul Islam Shishir         16    Male   \n",
       "1    2020/07/04 12:10:00 PM GMT+6             Ishrat Jahan         15  Female   \n",
       "2    2020/07/04 12:12:26 PM GMT+6           Md. Nasiruddin         14    Male   \n",
       "3    2020/07/04 12:18:11 PM GMT+6       Md. Shihab Hossain         12    Male   \n",
       "4    2020/07/04 12:18:19 PM GMT+6           Mahfuz Hossain         14    Male   \n",
       "..                            ...                      ...        ...     ...   \n",
       "696  2020/12/23 12:29:28 PM GMT+6                   Shohan         17    Male   \n",
       "697  2020/12/23 12:30:47 PM GMT+6                    Risha          9  Female   \n",
       "698  2020/12/23 12:33:37 PM GMT+6                    Rifat          5    Male   \n",
       "699  2020/12/23 12:34:37 PM GMT+6                     Maya          5  Female   \n",
       "700  2020/12/23 12:36:32 PM GMT+6                     Toma         16  Female   \n",
       "\n",
       "     class District(জেলা)  \\\n",
       "0       10       Chandpur   \n",
       "1       10        Rangpur   \n",
       "2        8         Bogura   \n",
       "3        7         Bogura   \n",
       "4        7       Chandpur   \n",
       "..     ...            ...   \n",
       "696     10         Bogura   \n",
       "697      4         Bogura   \n",
       "698      1         Bogura   \n",
       "699      1         Bogura   \n",
       "700      9         Bogura   \n",
       "\n",
       "    What is your personal interest?(তুমি কি করতে পছন্দ করো?)  \\\n",
       "0                                     Playing outside          \n",
       "1                                              Drawing         \n",
       "2                                              Fishing         \n",
       "3                                            Traveling         \n",
       "4                                     Playing outside          \n",
       "..                                                 ...         \n",
       "696                                     Paying outside         \n",
       "697                                      Reading books         \n",
       "698                                    Playing outside         \n",
       "699                                        Watching tv         \n",
       "700                                           Sleeping         \n",
       "\n",
       "    acquire_personal_interest     go_outside hamper_study concentrate_study  \\\n",
       "0                          No             No          Yes                No   \n",
       "1                         Yes             No          Yes               Yes   \n",
       "2                         Yes  Not necessary          Yes                No   \n",
       "3                          No             No          Yes                No   \n",
       "4                          No             No          Yes                No   \n",
       "..                        ...            ...          ...               ...   \n",
       "696                        No             No          Yes                No   \n",
       "697                   Partial             No          Yes                No   \n",
       "698                        No            Yes           No               Yes   \n",
       "699                       Yes             No       May be                No   \n",
       "700                   Partial             No          Yes                No   \n",
       "\n",
       "    Do you know about online classes in Sangsad Tv?(সংসদ টিভিতে প্রচার হওয়া অনলাইন ক্লাস এর ব্যাপারে তুমি জানো কি?)  \\\n",
       "0                                                  Yes                                                                 \n",
       "1                                                  Yes                                                                 \n",
       "2                                                   No                                                                 \n",
       "3                                                  Yes                                                                 \n",
       "4                                                  Yes                                                                 \n",
       "..                                                 ...                                                                 \n",
       "696                                                 No                                                                 \n",
       "697                                                Yes                                                                 \n",
       "698                                                 No                                                                 \n",
       "699                                                 No                                                                 \n",
       "700                                                Yes                                                                 \n",
       "\n",
       "    participate_online_class favorite_food feel_anger    upbraid  \\\n",
       "0                         No            No        Yes  Sometimes   \n",
       "1                  Sometimes           Yes        Yes         No   \n",
       "2                         No            No         No        Yes   \n",
       "3                  Sometimes           Yes         No  Sometimes   \n",
       "4                         No            No         No        Yes   \n",
       "..                       ...           ...        ...        ...   \n",
       "696                       No            No        Yes        Yes   \n",
       "697                Sometimes    Little bit         No  Sometimes   \n",
       "698                       No           Yes         No         No   \n",
       "699                       No           Yes         No        Yes   \n",
       "700                       No    Little bit        Yes        Yes   \n",
       "\n",
       "    spend_quality_time relative_house hangouts   target  \n",
       "0                  Yes             No      Yes  Partial  \n",
       "1                   No             No      Yes  Partial  \n",
       "2                  Yes            Yes      Yes  Partial  \n",
       "3                  Yes            Yes      Yes  Partial  \n",
       "4                  Yes            Yes      Yes      Yes  \n",
       "..                 ...            ...      ...      ...  \n",
       "696                Yes            Yes      Yes      Yes  \n",
       "697                Yes            Yes      Yes  Partial  \n",
       "698                Yes            Yes       No  Partial  \n",
       "699                Yes            Yes      Yes  Partial  \n",
       "700                Yes            Yes      Yes      Yes  \n",
       "\n",
       "[701 rows x 20 columns]"
      ]
     },
     "execution_count": 4,
     "metadata": {},
     "output_type": "execute_result"
    }
   ],
   "source": [
    "df"
   ]
  },
  {
   "cell_type": "code",
   "execution_count": 5,
   "metadata": {},
   "outputs": [],
   "source": [
    "df = df.drop('Timestamp', 1)\n",
    "df = df.drop('Name (নাম)', 1)\n",
    "df = df.drop('Age(বয়স)', 1)\n",
    "df = df.drop('District(জেলা)', 1)\n",
    "df = df.drop('What is your personal interest?(তুমি কি করতে পছন্দ করো?)', 1)\n",
    "df = df.drop('Do you know about online classes in Sangsad Tv?(সংসদ টিভিতে প্রচার হওয়া অনলাইন ক্লাস এর ব্যাপারে তুমি জানো কি?)', 1)"
   ]
  },
  {
   "cell_type": "code",
   "execution_count": 6,
   "metadata": {},
   "outputs": [
    {
     "data": {
      "text/html": [
       "<div>\n",
       "<style scoped>\n",
       "    .dataframe tbody tr th:only-of-type {\n",
       "        vertical-align: middle;\n",
       "    }\n",
       "\n",
       "    .dataframe tbody tr th {\n",
       "        vertical-align: top;\n",
       "    }\n",
       "\n",
       "    .dataframe thead th {\n",
       "        text-align: right;\n",
       "    }\n",
       "</style>\n",
       "<table border=\"1\" class=\"dataframe\">\n",
       "  <thead>\n",
       "    <tr style=\"text-align: right;\">\n",
       "      <th></th>\n",
       "      <th>gender</th>\n",
       "      <th>class</th>\n",
       "      <th>acquire_personal_interest</th>\n",
       "      <th>go_outside</th>\n",
       "      <th>hamper_study</th>\n",
       "      <th>concentrate_study</th>\n",
       "      <th>participate_online_class</th>\n",
       "      <th>favorite_food</th>\n",
       "      <th>feel_anger</th>\n",
       "      <th>upbraid</th>\n",
       "      <th>spend_quality_time</th>\n",
       "      <th>relative_house</th>\n",
       "      <th>hangouts</th>\n",
       "      <th>target</th>\n",
       "    </tr>\n",
       "  </thead>\n",
       "  <tbody>\n",
       "    <tr>\n",
       "      <td>0</td>\n",
       "      <td>Male</td>\n",
       "      <td>10</td>\n",
       "      <td>No</td>\n",
       "      <td>No</td>\n",
       "      <td>Yes</td>\n",
       "      <td>No</td>\n",
       "      <td>No</td>\n",
       "      <td>No</td>\n",
       "      <td>Yes</td>\n",
       "      <td>Sometimes</td>\n",
       "      <td>Yes</td>\n",
       "      <td>No</td>\n",
       "      <td>Yes</td>\n",
       "      <td>Partial</td>\n",
       "    </tr>\n",
       "    <tr>\n",
       "      <td>1</td>\n",
       "      <td>Female</td>\n",
       "      <td>10</td>\n",
       "      <td>Yes</td>\n",
       "      <td>No</td>\n",
       "      <td>Yes</td>\n",
       "      <td>Yes</td>\n",
       "      <td>Sometimes</td>\n",
       "      <td>Yes</td>\n",
       "      <td>Yes</td>\n",
       "      <td>No</td>\n",
       "      <td>No</td>\n",
       "      <td>No</td>\n",
       "      <td>Yes</td>\n",
       "      <td>Partial</td>\n",
       "    </tr>\n",
       "    <tr>\n",
       "      <td>2</td>\n",
       "      <td>Male</td>\n",
       "      <td>8</td>\n",
       "      <td>Yes</td>\n",
       "      <td>Not necessary</td>\n",
       "      <td>Yes</td>\n",
       "      <td>No</td>\n",
       "      <td>No</td>\n",
       "      <td>No</td>\n",
       "      <td>No</td>\n",
       "      <td>Yes</td>\n",
       "      <td>Yes</td>\n",
       "      <td>Yes</td>\n",
       "      <td>Yes</td>\n",
       "      <td>Partial</td>\n",
       "    </tr>\n",
       "    <tr>\n",
       "      <td>3</td>\n",
       "      <td>Male</td>\n",
       "      <td>7</td>\n",
       "      <td>No</td>\n",
       "      <td>No</td>\n",
       "      <td>Yes</td>\n",
       "      <td>No</td>\n",
       "      <td>Sometimes</td>\n",
       "      <td>Yes</td>\n",
       "      <td>No</td>\n",
       "      <td>Sometimes</td>\n",
       "      <td>Yes</td>\n",
       "      <td>Yes</td>\n",
       "      <td>Yes</td>\n",
       "      <td>Partial</td>\n",
       "    </tr>\n",
       "    <tr>\n",
       "      <td>4</td>\n",
       "      <td>Male</td>\n",
       "      <td>7</td>\n",
       "      <td>No</td>\n",
       "      <td>No</td>\n",
       "      <td>Yes</td>\n",
       "      <td>No</td>\n",
       "      <td>No</td>\n",
       "      <td>No</td>\n",
       "      <td>No</td>\n",
       "      <td>Yes</td>\n",
       "      <td>Yes</td>\n",
       "      <td>Yes</td>\n",
       "      <td>Yes</td>\n",
       "      <td>Yes</td>\n",
       "    </tr>\n",
       "    <tr>\n",
       "      <td>...</td>\n",
       "      <td>...</td>\n",
       "      <td>...</td>\n",
       "      <td>...</td>\n",
       "      <td>...</td>\n",
       "      <td>...</td>\n",
       "      <td>...</td>\n",
       "      <td>...</td>\n",
       "      <td>...</td>\n",
       "      <td>...</td>\n",
       "      <td>...</td>\n",
       "      <td>...</td>\n",
       "      <td>...</td>\n",
       "      <td>...</td>\n",
       "      <td>...</td>\n",
       "    </tr>\n",
       "    <tr>\n",
       "      <td>696</td>\n",
       "      <td>Male</td>\n",
       "      <td>10</td>\n",
       "      <td>No</td>\n",
       "      <td>No</td>\n",
       "      <td>Yes</td>\n",
       "      <td>No</td>\n",
       "      <td>No</td>\n",
       "      <td>No</td>\n",
       "      <td>Yes</td>\n",
       "      <td>Yes</td>\n",
       "      <td>Yes</td>\n",
       "      <td>Yes</td>\n",
       "      <td>Yes</td>\n",
       "      <td>Yes</td>\n",
       "    </tr>\n",
       "    <tr>\n",
       "      <td>697</td>\n",
       "      <td>Female</td>\n",
       "      <td>4</td>\n",
       "      <td>Partial</td>\n",
       "      <td>No</td>\n",
       "      <td>Yes</td>\n",
       "      <td>No</td>\n",
       "      <td>Sometimes</td>\n",
       "      <td>Little bit</td>\n",
       "      <td>No</td>\n",
       "      <td>Sometimes</td>\n",
       "      <td>Yes</td>\n",
       "      <td>Yes</td>\n",
       "      <td>Yes</td>\n",
       "      <td>Partial</td>\n",
       "    </tr>\n",
       "    <tr>\n",
       "      <td>698</td>\n",
       "      <td>Male</td>\n",
       "      <td>1</td>\n",
       "      <td>No</td>\n",
       "      <td>Yes</td>\n",
       "      <td>No</td>\n",
       "      <td>Yes</td>\n",
       "      <td>No</td>\n",
       "      <td>Yes</td>\n",
       "      <td>No</td>\n",
       "      <td>No</td>\n",
       "      <td>Yes</td>\n",
       "      <td>Yes</td>\n",
       "      <td>No</td>\n",
       "      <td>Partial</td>\n",
       "    </tr>\n",
       "    <tr>\n",
       "      <td>699</td>\n",
       "      <td>Female</td>\n",
       "      <td>1</td>\n",
       "      <td>Yes</td>\n",
       "      <td>No</td>\n",
       "      <td>May be</td>\n",
       "      <td>No</td>\n",
       "      <td>No</td>\n",
       "      <td>Yes</td>\n",
       "      <td>No</td>\n",
       "      <td>Yes</td>\n",
       "      <td>Yes</td>\n",
       "      <td>Yes</td>\n",
       "      <td>Yes</td>\n",
       "      <td>Partial</td>\n",
       "    </tr>\n",
       "    <tr>\n",
       "      <td>700</td>\n",
       "      <td>Female</td>\n",
       "      <td>9</td>\n",
       "      <td>Partial</td>\n",
       "      <td>No</td>\n",
       "      <td>Yes</td>\n",
       "      <td>No</td>\n",
       "      <td>No</td>\n",
       "      <td>Little bit</td>\n",
       "      <td>Yes</td>\n",
       "      <td>Yes</td>\n",
       "      <td>Yes</td>\n",
       "      <td>Yes</td>\n",
       "      <td>Yes</td>\n",
       "      <td>Yes</td>\n",
       "    </tr>\n",
       "  </tbody>\n",
       "</table>\n",
       "<p>701 rows × 14 columns</p>\n",
       "</div>"
      ],
      "text/plain": [
       "     gender  class acquire_personal_interest     go_outside hamper_study  \\\n",
       "0      Male     10                        No             No          Yes   \n",
       "1    Female     10                       Yes             No          Yes   \n",
       "2      Male      8                       Yes  Not necessary          Yes   \n",
       "3      Male      7                        No             No          Yes   \n",
       "4      Male      7                        No             No          Yes   \n",
       "..      ...    ...                       ...            ...          ...   \n",
       "696    Male     10                        No             No          Yes   \n",
       "697  Female      4                   Partial             No          Yes   \n",
       "698    Male      1                        No            Yes           No   \n",
       "699  Female      1                       Yes             No       May be   \n",
       "700  Female      9                   Partial             No          Yes   \n",
       "\n",
       "    concentrate_study participate_online_class favorite_food feel_anger  \\\n",
       "0                  No                       No            No        Yes   \n",
       "1                 Yes                Sometimes           Yes        Yes   \n",
       "2                  No                       No            No         No   \n",
       "3                  No                Sometimes           Yes         No   \n",
       "4                  No                       No            No         No   \n",
       "..                ...                      ...           ...        ...   \n",
       "696                No                       No            No        Yes   \n",
       "697                No                Sometimes    Little bit         No   \n",
       "698               Yes                       No           Yes         No   \n",
       "699                No                       No           Yes         No   \n",
       "700                No                       No    Little bit        Yes   \n",
       "\n",
       "       upbraid spend_quality_time relative_house hangouts   target  \n",
       "0    Sometimes                Yes             No      Yes  Partial  \n",
       "1           No                 No             No      Yes  Partial  \n",
       "2          Yes                Yes            Yes      Yes  Partial  \n",
       "3    Sometimes                Yes            Yes      Yes  Partial  \n",
       "4          Yes                Yes            Yes      Yes      Yes  \n",
       "..         ...                ...            ...      ...      ...  \n",
       "696        Yes                Yes            Yes      Yes      Yes  \n",
       "697  Sometimes                Yes            Yes      Yes  Partial  \n",
       "698         No                Yes            Yes       No  Partial  \n",
       "699        Yes                Yes            Yes      Yes  Partial  \n",
       "700        Yes                Yes            Yes      Yes      Yes  \n",
       "\n",
       "[701 rows x 14 columns]"
      ]
     },
     "execution_count": 6,
     "metadata": {},
     "output_type": "execute_result"
    }
   ],
   "source": [
    "df"
   ]
  },
  {
   "cell_type": "markdown",
   "metadata": {
    "id": "qjMyBI58s95A"
   },
   "source": [
    "***Data Analysis***"
   ]
  },
  {
   "cell_type": "code",
   "execution_count": 7,
   "metadata": {
    "colab": {
     "base_uri": "https://localhost:8080/"
    },
    "id": "ouafaeDls-pg",
    "outputId": "915c8db5-3359-4645-920e-6b885749cda4"
   },
   "outputs": [
    {
     "data": {
      "text/plain": [
       "Partial    375\n",
       "Yes        272\n",
       "No          54\n",
       "Name: target, dtype: int64"
      ]
     },
     "execution_count": 7,
     "metadata": {},
     "output_type": "execute_result"
    }
   ],
   "source": [
    "df['target'].value_counts()"
   ]
  },
  {
   "cell_type": "code",
   "execution_count": 8,
   "metadata": {
    "colab": {
     "base_uri": "https://localhost:8080/"
    },
    "id": "wCOS73kSquJJ",
    "outputId": "387f6784-627b-4ede-de2e-a7fa8e487fc8"
   },
   "outputs": [
    {
     "data": {
      "text/plain": [
       "Male      378\n",
       "Female    323\n",
       "Name: gender, dtype: int64"
      ]
     },
     "execution_count": 8,
     "metadata": {},
     "output_type": "execute_result"
    }
   ],
   "source": [
    "df['gender'].value_counts()"
   ]
  },
  {
   "cell_type": "code",
   "execution_count": 9,
   "metadata": {
    "colab": {
     "base_uri": "https://localhost:8080/"
    },
    "id": "rm6jrXumtFbf",
    "outputId": "9f202bf7-8efc-4343-e691-c6cb6dfd67af"
   },
   "outputs": [
    {
     "data": {
      "text/plain": [
       "10    95\n",
       "6     89\n",
       "4     76\n",
       "9     71\n",
       "5     70\n",
       "3     69\n",
       "7     66\n",
       "1     65\n",
       "8     63\n",
       "2     37\n",
       "Name: class, dtype: int64"
      ]
     },
     "execution_count": 9,
     "metadata": {},
     "output_type": "execute_result"
    }
   ],
   "source": [
    "df['class'].value_counts()"
   ]
  },
  {
   "cell_type": "code",
   "execution_count": 10,
   "metadata": {
    "colab": {
     "base_uri": "https://localhost:8080/",
     "height": 350
    },
    "id": "NYP4Ea4ktHd-",
    "outputId": "b44b81d4-1644-4c43-e4f2-6734411c5b6d"
   },
   "outputs": [
    {
     "data": {
      "text/plain": [
       "<matplotlib.axes._subplots.AxesSubplot at 0x1b656b76cc8>"
      ]
     },
     "execution_count": 10,
     "metadata": {},
     "output_type": "execute_result"
    },
    {
     "data": {
      "image/png": "[encoded data removed]",
      "text/plain": [
       "<Figure size 432x288 with 1 Axes>"
      ]
     },
     "metadata": {
      "needs_background": "light"
     },
     "output_type": "display_data"
    }
   ],
   "source": [
    "seaborn.countplot(df['target'])"
   ]
  },
  {
   "cell_type": "code",
   "execution_count": 11,
   "metadata": {
    "colab": {
     "base_uri": "https://localhost:8080/",
     "height": 350
    },
    "id": "LwqqSo2utLEK",
    "outputId": "261fa2c8-bf98-4bb4-cc53-9a81bad5bb63"
   },
   "outputs": [
    {
     "data": {
      "text/plain": [
       "<matplotlib.axes._subplots.AxesSubplot at 0x1b65680d5c8>"
      ]
     },
     "execution_count": 11,
     "metadata": {},
     "output_type": "execute_result"
    },
    {
     "data": {
      "image/png": "[encoded data removed]",
      "text/plain": [
       "<Figure size 432x288 with 1 Axes>"
      ]
     },
     "metadata": {
      "needs_background": "light"
     },
     "output_type": "display_data"
    }
   ],
   "source": [
    "seaborn.countplot(df['class'])"
   ]
  },
  {
   "cell_type": "code",
   "execution_count": 12,
   "metadata": {
    "colab": {
     "base_uri": "https://localhost:8080/",
     "height": 296
    },
    "id": "_JqMEYJKtOpg",
    "outputId": "46a963a3-41cb-42b7-b7d6-cb751c84daee"
   },
   "outputs": [
    {
     "data": {
      "text/plain": [
       "<matplotlib.axes._subplots.AxesSubplot at 0x1b656ce1308>"
      ]
     },
     "execution_count": 12,
     "metadata": {},
     "output_type": "execute_result"
    },
    {
     "data": {
      "image/png": "[encoded data removed]",
      "text/plain": [
       "<Figure size 432x288 with 1 Axes>"
      ]
     },
     "metadata": {
      "needs_background": "light"
     },
     "output_type": "display_data"
    }
   ],
   "source": [
    "seaborn.countplot(x='class',hue='target',data=df,palette='colorblind',edgecolor=seaborn.color_palette('dark',n_colors=1))"
   ]
  },
  {
   "cell_type": "code",
   "execution_count": 13,
   "metadata": {
    "colab": {
     "base_uri": "https://localhost:8080/",
     "height": 296
    },
    "id": "dnoaXDuOtSGz",
    "outputId": "6020ace4-c687-4c7e-cf9f-94c0f50b94ba"
   },
   "outputs": [
    {
     "data": {
      "text/plain": [
       "<matplotlib.axes._subplots.AxesSubplot at 0x1b656dd31c8>"
      ]
     },
     "execution_count": 13,
     "metadata": {},
     "output_type": "execute_result"
    },
    {
     "data": {
      "image/png": "[encoded data removed]",
      "text/plain": [
       "<Figure size 432x288 with 1 Axes>"
      ]
     },
     "metadata": {
      "needs_background": "light"
     },
     "output_type": "display_data"
    }
   ],
   "source": [
    "seaborn.countplot(x='gender',hue='target',data=df,palette='colorblind',edgecolor=seaborn.color_palette('dark',n_colors=1))"
   ]
  },
  {
   "cell_type": "markdown",
   "metadata": {
    "id": "mBTozHzJtW3o"
   },
   "source": [
    "***Split our dataset into its attributes and labels***"
   ]
  },
  {
   "cell_type": "code",
   "execution_count": 14,
   "metadata": {
    "id": "M2vLMze5Xm_C"
   },
   "outputs": [],
   "source": [
    "le_x= LabelEncoder()\n",
    "df.gender = le_x.fit_transform(df.gender)\n",
    "df.acquire_personal_interest = le_x.fit_transform(df.acquire_personal_interest)\n",
    "df.go_outside = le_x.fit_transform(df.go_outside)\n",
    "df.hamper_study = le_x.fit_transform(df.hamper_study)\n",
    "df.concentrate_study = le_x.fit_transform(df.concentrate_study)\n",
    "df.participate_online_class = le_x.fit_transform(df.participate_online_class)\n",
    "df.favorite_food = le_x.fit_transform(df.favorite_food)\n",
    "df.feel_anger = le_x.fit_transform(df.feel_anger)\n",
    "df.upbraid = le_x.fit_transform(df.upbraid)\n",
    "df.spend_quality_time = le_x.fit_transform(df.spend_quality_time)\n",
    "df.relative_house = le_x.fit_transform(df.relative_house)\n",
    "df.hangouts = le_x.fit_transform(df.hangouts)"
   ]
  },
  {
   "cell_type": "code",
   "execution_count": 15,
   "metadata": {
    "colab": {
     "base_uri": "https://localhost:8080/",
     "height": 419
    },
    "id": "CmcqhJB6vwSf",
    "outputId": "e83272b8-32f9-42a9-f0ec-50e1a6fe290f"
   },
   "outputs": [
    {
     "data": {
      "text/html": [
       "<div>\n",
       "<style scoped>\n",
       "    .dataframe tbody tr th:only-of-type {\n",
       "        vertical-align: middle;\n",
       "    }\n",
       "\n",
       "    .dataframe tbody tr th {\n",
       "        vertical-align: top;\n",
       "    }\n",
       "\n",
       "    .dataframe thead th {\n",
       "        text-align: right;\n",
       "    }\n",
       "</style>\n",
       "<table border=\"1\" class=\"dataframe\">\n",
       "  <thead>\n",
       "    <tr style=\"text-align: right;\">\n",
       "      <th></th>\n",
       "      <th>gender</th>\n",
       "      <th>class</th>\n",
       "      <th>acquire_personal_interest</th>\n",
       "      <th>go_outside</th>\n",
       "      <th>hamper_study</th>\n",
       "      <th>concentrate_study</th>\n",
       "      <th>participate_online_class</th>\n",
       "      <th>favorite_food</th>\n",
       "      <th>feel_anger</th>\n",
       "      <th>upbraid</th>\n",
       "      <th>spend_quality_time</th>\n",
       "      <th>relative_house</th>\n",
       "      <th>hangouts</th>\n",
       "      <th>target</th>\n",
       "    </tr>\n",
       "  </thead>\n",
       "  <tbody>\n",
       "    <tr>\n",
       "      <td>0</td>\n",
       "      <td>1</td>\n",
       "      <td>10</td>\n",
       "      <td>0</td>\n",
       "      <td>0</td>\n",
       "      <td>2</td>\n",
       "      <td>0</td>\n",
       "      <td>0</td>\n",
       "      <td>1</td>\n",
       "      <td>1</td>\n",
       "      <td>1</td>\n",
       "      <td>1</td>\n",
       "      <td>0</td>\n",
       "      <td>1</td>\n",
       "      <td>Partial</td>\n",
       "    </tr>\n",
       "    <tr>\n",
       "      <td>1</td>\n",
       "      <td>0</td>\n",
       "      <td>10</td>\n",
       "      <td>2</td>\n",
       "      <td>0</td>\n",
       "      <td>2</td>\n",
       "      <td>1</td>\n",
       "      <td>1</td>\n",
       "      <td>2</td>\n",
       "      <td>1</td>\n",
       "      <td>0</td>\n",
       "      <td>0</td>\n",
       "      <td>0</td>\n",
       "      <td>1</td>\n",
       "      <td>Partial</td>\n",
       "    </tr>\n",
       "    <tr>\n",
       "      <td>2</td>\n",
       "      <td>1</td>\n",
       "      <td>8</td>\n",
       "      <td>2</td>\n",
       "      <td>1</td>\n",
       "      <td>2</td>\n",
       "      <td>0</td>\n",
       "      <td>0</td>\n",
       "      <td>1</td>\n",
       "      <td>0</td>\n",
       "      <td>2</td>\n",
       "      <td>1</td>\n",
       "      <td>1</td>\n",
       "      <td>1</td>\n",
       "      <td>Partial</td>\n",
       "    </tr>\n",
       "    <tr>\n",
       "      <td>3</td>\n",
       "      <td>1</td>\n",
       "      <td>7</td>\n",
       "      <td>0</td>\n",
       "      <td>0</td>\n",
       "      <td>2</td>\n",
       "      <td>0</td>\n",
       "      <td>1</td>\n",
       "      <td>2</td>\n",
       "      <td>0</td>\n",
       "      <td>1</td>\n",
       "      <td>1</td>\n",
       "      <td>1</td>\n",
       "      <td>1</td>\n",
       "      <td>Partial</td>\n",
       "    </tr>\n",
       "    <tr>\n",
       "      <td>4</td>\n",
       "      <td>1</td>\n",
       "      <td>7</td>\n",
       "      <td>0</td>\n",
       "      <td>0</td>\n",
       "      <td>2</td>\n",
       "      <td>0</td>\n",
       "      <td>0</td>\n",
       "      <td>1</td>\n",
       "      <td>0</td>\n",
       "      <td>2</td>\n",
       "      <td>1</td>\n",
       "      <td>1</td>\n",
       "      <td>1</td>\n",
       "      <td>Yes</td>\n",
       "    </tr>\n",
       "    <tr>\n",
       "      <td>...</td>\n",
       "      <td>...</td>\n",
       "      <td>...</td>\n",
       "      <td>...</td>\n",
       "      <td>...</td>\n",
       "      <td>...</td>\n",
       "      <td>...</td>\n",
       "      <td>...</td>\n",
       "      <td>...</td>\n",
       "      <td>...</td>\n",
       "      <td>...</td>\n",
       "      <td>...</td>\n",
       "      <td>...</td>\n",
       "      <td>...</td>\n",
       "      <td>...</td>\n",
       "    </tr>\n",
       "    <tr>\n",
       "      <td>696</td>\n",
       "      <td>1</td>\n",
       "      <td>10</td>\n",
       "      <td>0</td>\n",
       "      <td>0</td>\n",
       "      <td>2</td>\n",
       "      <td>0</td>\n",
       "      <td>0</td>\n",
       "      <td>1</td>\n",
       "      <td>1</td>\n",
       "      <td>2</td>\n",
       "      <td>1</td>\n",
       "      <td>1</td>\n",
       "      <td>1</td>\n",
       "      <td>Yes</td>\n",
       "    </tr>\n",
       "    <tr>\n",
       "      <td>697</td>\n",
       "      <td>0</td>\n",
       "      <td>4</td>\n",
       "      <td>1</td>\n",
       "      <td>0</td>\n",
       "      <td>2</td>\n",
       "      <td>0</td>\n",
       "      <td>1</td>\n",
       "      <td>0</td>\n",
       "      <td>0</td>\n",
       "      <td>1</td>\n",
       "      <td>1</td>\n",
       "      <td>1</td>\n",
       "      <td>1</td>\n",
       "      <td>Partial</td>\n",
       "    </tr>\n",
       "    <tr>\n",
       "      <td>698</td>\n",
       "      <td>1</td>\n",
       "      <td>1</td>\n",
       "      <td>0</td>\n",
       "      <td>2</td>\n",
       "      <td>1</td>\n",
       "      <td>1</td>\n",
       "      <td>0</td>\n",
       "      <td>2</td>\n",
       "      <td>0</td>\n",
       "      <td>0</td>\n",
       "      <td>1</td>\n",
       "      <td>1</td>\n",
       "      <td>0</td>\n",
       "      <td>Partial</td>\n",
       "    </tr>\n",
       "    <tr>\n",
       "      <td>699</td>\n",
       "      <td>0</td>\n",
       "      <td>1</td>\n",
       "      <td>2</td>\n",
       "      <td>0</td>\n",
       "      <td>0</td>\n",
       "      <td>0</td>\n",
       "      <td>0</td>\n",
       "      <td>2</td>\n",
       "      <td>0</td>\n",
       "      <td>2</td>\n",
       "      <td>1</td>\n",
       "      <td>1</td>\n",
       "      <td>1</td>\n",
       "      <td>Partial</td>\n",
       "    </tr>\n",
       "    <tr>\n",
       "      <td>700</td>\n",
       "      <td>0</td>\n",
       "      <td>9</td>\n",
       "      <td>1</td>\n",
       "      <td>0</td>\n",
       "      <td>2</td>\n",
       "      <td>0</td>\n",
       "      <td>0</td>\n",
       "      <td>0</td>\n",
       "      <td>1</td>\n",
       "      <td>2</td>\n",
       "      <td>1</td>\n",
       "      <td>1</td>\n",
       "      <td>1</td>\n",
       "      <td>Yes</td>\n",
       "    </tr>\n",
       "  </tbody>\n",
       "</table>\n",
       "<p>701 rows × 14 columns</p>\n",
       "</div>"
      ],
      "text/plain": [
       "     gender  class  acquire_personal_interest  go_outside  hamper_study  \\\n",
       "0         1     10                          0           0             2   \n",
       "1         0     10                          2           0             2   \n",
       "2         1      8                          2           1             2   \n",
       "3         1      7                          0           0             2   \n",
       "4         1      7                          0           0             2   \n",
       "..      ...    ...                        ...         ...           ...   \n",
       "696       1     10                          0           0             2   \n",
       "697       0      4                          1           0             2   \n",
       "698       1      1                          0           2             1   \n",
       "699       0      1                          2           0             0   \n",
       "700       0      9                          1           0             2   \n",
       "\n",
       "     concentrate_study  participate_online_class  favorite_food  feel_anger  \\\n",
       "0                    0                         0              1           1   \n",
       "1                    1                         1              2           1   \n",
       "2                    0                         0              1           0   \n",
       "3                    0                         1              2           0   \n",
       "4                    0                         0              1           0   \n",
       "..                 ...                       ...            ...         ...   \n",
       "696                  0                         0              1           1   \n",
       "697                  0                         1              0           0   \n",
       "698                  1                         0              2           0   \n",
       "699                  0                         0              2           0   \n",
       "700                  0                         0              0           1   \n",
       "\n",
       "     upbraid  spend_quality_time  relative_house  hangouts   target  \n",
       "0          1                   1               0         1  Partial  \n",
       "1          0                   0               0         1  Partial  \n",
       "2          2                   1               1         1  Partial  \n",
       "3          1                   1               1         1  Partial  \n",
       "4          2                   1               1         1      Yes  \n",
       "..       ...                 ...             ...       ...      ...  \n",
       "696        2                   1               1         1      Yes  \n",
       "697        1                   1               1         1  Partial  \n",
       "698        0                   1               1         0  Partial  \n",
       "699        2                   1               1         1  Partial  \n",
       "700        2                   1               1         1      Yes  \n",
       "\n",
       "[701 rows x 14 columns]"
      ]
     },
     "execution_count": 15,
     "metadata": {},
     "output_type": "execute_result"
    }
   ],
   "source": [
    "df"
   ]
  },
  {
   "cell_type": "code",
   "execution_count": 16,
   "metadata": {
    "colab": {
     "base_uri": "https://localhost:8080/",
     "height": 419
    },
    "id": "OGxf7N0mXb7h",
    "outputId": "f56310da-300d-4634-e7e6-a6b4111f79e9"
   },
   "outputs": [
    {
     "data": {
      "text/html": [
       "<div>\n",
       "<style scoped>\n",
       "    .dataframe tbody tr th:only-of-type {\n",
       "        vertical-align: middle;\n",
       "    }\n",
       "\n",
       "    .dataframe tbody tr th {\n",
       "        vertical-align: top;\n",
       "    }\n",
       "\n",
       "    .dataframe thead th {\n",
       "        text-align: right;\n",
       "    }\n",
       "</style>\n",
       "<table border=\"1\" class=\"dataframe\">\n",
       "  <thead>\n",
       "    <tr style=\"text-align: right;\">\n",
       "      <th></th>\n",
       "      <th>gender</th>\n",
       "      <th>class</th>\n",
       "      <th>acquire_personal_interest</th>\n",
       "      <th>go_outside</th>\n",
       "      <th>hamper_study</th>\n",
       "      <th>concentrate_study</th>\n",
       "      <th>participate_online_class</th>\n",
       "      <th>favorite_food</th>\n",
       "      <th>feel_anger</th>\n",
       "      <th>upbraid</th>\n",
       "      <th>spend_quality_time</th>\n",
       "      <th>relative_house</th>\n",
       "      <th>hangouts</th>\n",
       "    </tr>\n",
       "  </thead>\n",
       "  <tbody>\n",
       "    <tr>\n",
       "      <td>0</td>\n",
       "      <td>1</td>\n",
       "      <td>10</td>\n",
       "      <td>0</td>\n",
       "      <td>0</td>\n",
       "      <td>2</td>\n",
       "      <td>0</td>\n",
       "      <td>0</td>\n",
       "      <td>1</td>\n",
       "      <td>1</td>\n",
       "      <td>1</td>\n",
       "      <td>1</td>\n",
       "      <td>0</td>\n",
       "      <td>1</td>\n",
       "    </tr>\n",
       "    <tr>\n",
       "      <td>1</td>\n",
       "      <td>0</td>\n",
       "      <td>10</td>\n",
       "      <td>2</td>\n",
       "      <td>0</td>\n",
       "      <td>2</td>\n",
       "      <td>1</td>\n",
       "      <td>1</td>\n",
       "      <td>2</td>\n",
       "      <td>1</td>\n",
       "      <td>0</td>\n",
       "      <td>0</td>\n",
       "      <td>0</td>\n",
       "      <td>1</td>\n",
       "    </tr>\n",
       "    <tr>\n",
       "      <td>2</td>\n",
       "      <td>1</td>\n",
       "      <td>8</td>\n",
       "      <td>2</td>\n",
       "      <td>1</td>\n",
       "      <td>2</td>\n",
       "      <td>0</td>\n",
       "      <td>0</td>\n",
       "      <td>1</td>\n",
       "      <td>0</td>\n",
       "      <td>2</td>\n",
       "      <td>1</td>\n",
       "      <td>1</td>\n",
       "      <td>1</td>\n",
       "    </tr>\n",
       "    <tr>\n",
       "      <td>3</td>\n",
       "      <td>1</td>\n",
       "      <td>7</td>\n",
       "      <td>0</td>\n",
       "      <td>0</td>\n",
       "      <td>2</td>\n",
       "      <td>0</td>\n",
       "      <td>1</td>\n",
       "      <td>2</td>\n",
       "      <td>0</td>\n",
       "      <td>1</td>\n",
       "      <td>1</td>\n",
       "      <td>1</td>\n",
       "      <td>1</td>\n",
       "    </tr>\n",
       "    <tr>\n",
       "      <td>4</td>\n",
       "      <td>1</td>\n",
       "      <td>7</td>\n",
       "      <td>0</td>\n",
       "      <td>0</td>\n",
       "      <td>2</td>\n",
       "      <td>0</td>\n",
       "      <td>0</td>\n",
       "      <td>1</td>\n",
       "      <td>0</td>\n",
       "      <td>2</td>\n",
       "      <td>1</td>\n",
       "      <td>1</td>\n",
       "      <td>1</td>\n",
       "    </tr>\n",
       "    <tr>\n",
       "      <td>...</td>\n",
       "      <td>...</td>\n",
       "      <td>...</td>\n",
       "      <td>...</td>\n",
       "      <td>...</td>\n",
       "      <td>...</td>\n",
       "      <td>...</td>\n",
       "      <td>...</td>\n",
       "      <td>...</td>\n",
       "      <td>...</td>\n",
       "      <td>...</td>\n",
       "      <td>...</td>\n",
       "      <td>...</td>\n",
       "      <td>...</td>\n",
       "    </tr>\n",
       "    <tr>\n",
       "      <td>696</td>\n",
       "      <td>1</td>\n",
       "      <td>10</td>\n",
       "      <td>0</td>\n",
       "      <td>0</td>\n",
       "      <td>2</td>\n",
       "      <td>0</td>\n",
       "      <td>0</td>\n",
       "      <td>1</td>\n",
       "      <td>1</td>\n",
       "      <td>2</td>\n",
       "      <td>1</td>\n",
       "      <td>1</td>\n",
       "      <td>1</td>\n",
       "    </tr>\n",
       "    <tr>\n",
       "      <td>697</td>\n",
       "      <td>0</td>\n",
       "      <td>4</td>\n",
       "      <td>1</td>\n",
       "      <td>0</td>\n",
       "      <td>2</td>\n",
       "      <td>0</td>\n",
       "      <td>1</td>\n",
       "      <td>0</td>\n",
       "      <td>0</td>\n",
       "      <td>1</td>\n",
       "      <td>1</td>\n",
       "      <td>1</td>\n",
       "      <td>1</td>\n",
       "    </tr>\n",
       "    <tr>\n",
       "      <td>698</td>\n",
       "      <td>1</td>\n",
       "      <td>1</td>\n",
       "      <td>0</td>\n",
       "      <td>2</td>\n",
       "      <td>1</td>\n",
       "      <td>1</td>\n",
       "      <td>0</td>\n",
       "      <td>2</td>\n",
       "      <td>0</td>\n",
       "      <td>0</td>\n",
       "      <td>1</td>\n",
       "      <td>1</td>\n",
       "      <td>0</td>\n",
       "    </tr>\n",
       "    <tr>\n",
       "      <td>699</td>\n",
       "      <td>0</td>\n",
       "      <td>1</td>\n",
       "      <td>2</td>\n",
       "      <td>0</td>\n",
       "      <td>0</td>\n",
       "      <td>0</td>\n",
       "      <td>0</td>\n",
       "      <td>2</td>\n",
       "      <td>0</td>\n",
       "      <td>2</td>\n",
       "      <td>1</td>\n",
       "      <td>1</td>\n",
       "      <td>1</td>\n",
       "    </tr>\n",
       "    <tr>\n",
       "      <td>700</td>\n",
       "      <td>0</td>\n",
       "      <td>9</td>\n",
       "      <td>1</td>\n",
       "      <td>0</td>\n",
       "      <td>2</td>\n",
       "      <td>0</td>\n",
       "      <td>0</td>\n",
       "      <td>0</td>\n",
       "      <td>1</td>\n",
       "      <td>2</td>\n",
       "      <td>1</td>\n",
       "      <td>1</td>\n",
       "      <td>1</td>\n",
       "    </tr>\n",
       "  </tbody>\n",
       "</table>\n",
       "<p>701 rows × 13 columns</p>\n",
       "</div>"
      ],
      "text/plain": [
       "     gender  class  acquire_personal_interest  go_outside  hamper_study  \\\n",
       "0         1     10                          0           0             2   \n",
       "1         0     10                          2           0             2   \n",
       "2         1      8                          2           1             2   \n",
       "3         1      7                          0           0             2   \n",
       "4         1      7                          0           0             2   \n",
       "..      ...    ...                        ...         ...           ...   \n",
       "696       1     10                          0           0             2   \n",
       "697       0      4                          1           0             2   \n",
       "698       1      1                          0           2             1   \n",
       "699       0      1                          2           0             0   \n",
       "700       0      9                          1           0             2   \n",
       "\n",
       "     concentrate_study  participate_online_class  favorite_food  feel_anger  \\\n",
       "0                    0                         0              1           1   \n",
       "1                    1                         1              2           1   \n",
       "2                    0                         0              1           0   \n",
       "3                    0                         1              2           0   \n",
       "4                    0                         0              1           0   \n",
       "..                 ...                       ...            ...         ...   \n",
       "696                  0                         0              1           1   \n",
       "697                  0                         1              0           0   \n",
       "698                  1                         0              2           0   \n",
       "699                  0                         0              2           0   \n",
       "700                  0                         0              0           1   \n",
       "\n",
       "     upbraid  spend_quality_time  relative_house  hangouts  \n",
       "0          1                   1               0         1  \n",
       "1          0                   0               0         1  \n",
       "2          2                   1               1         1  \n",
       "3          1                   1               1         1  \n",
       "4          2                   1               1         1  \n",
       "..       ...                 ...             ...       ...  \n",
       "696        2                   1               1         1  \n",
       "697        1                   1               1         1  \n",
       "698        0                   1               1         0  \n",
       "699        2                   1               1         1  \n",
       "700        2                   1               1         1  \n",
       "\n",
       "[701 rows x 13 columns]"
      ]
     },
     "execution_count": 16,
     "metadata": {},
     "output_type": "execute_result"
    }
   ],
   "source": [
    "x=df.iloc[:,:-1]\n",
    "x"
   ]
  },
  {
   "cell_type": "code",
   "execution_count": 17,
   "metadata": {
    "colab": {
     "base_uri": "https://localhost:8080/"
    },
    "id": "XTrPnvkfXjky",
    "outputId": "4f2a78a2-039b-42a9-eff9-4cd13fbd406d"
   },
   "outputs": [
    {
     "data": {
      "text/plain": [
       "0      Partial\n",
       "1      Partial\n",
       "2      Partial\n",
       "3      Partial\n",
       "4          Yes\n",
       "        ...   \n",
       "696        Yes\n",
       "697    Partial\n",
       "698    Partial\n",
       "699    Partial\n",
       "700        Yes\n",
       "Name: target, Length: 701, dtype: object"
      ]
     },
     "execution_count": 17,
     "metadata": {},
     "output_type": "execute_result"
    }
   ],
   "source": [
    "y=df.iloc[:,13]\n",
    "y"
   ]
  },
  {
   "cell_type": "markdown",
   "metadata": {
    "id": "RZrWOnJVtetu"
   },
   "source": [
    "***Train Test Split***"
   ]
  },
  {
   "cell_type": "code",
   "execution_count": 18,
   "metadata": {
    "id": "hsg2WzELXsOt"
   },
   "outputs": [],
   "source": [
    "xtrain,xtest,ytrain,ytest= train_test_split(x,y,test_size=.3,random_state=1)"
   ]
  },
  {
   "cell_type": "markdown",
   "metadata": {
    "id": "8KgN5NHR8QQb"
   },
   "source": [
    "***Feature Scalling***"
   ]
  },
  {
   "cell_type": "code",
   "execution_count": null,
   "metadata": {
    "id": "WEJgFY7Xfu7y"
   },
   "outputs": [],
   "source": []
  },
  {
   "cell_type": "code",
   "execution_count": 19,
   "metadata": {
    "id": "WbzFAWmO8ecR"
   },
   "outputs": [],
   "source": [
    "from sklearn.preprocessing import StandardScaler\n",
    "scaler = StandardScaler()\n",
    "xtrain = scaler.fit_transform(xtrain)\n",
    "xtest = scaler.fit_transform(xtest)"
   ]
  },
  {
   "cell_type": "code",
   "execution_count": 20,
   "metadata": {
    "colab": {
     "base_uri": "https://localhost:8080/"
    },
    "id": "55Z5udIfXvq6",
    "outputId": "061e13d6-65da-4cbc-a820-5e5ca3193f48"
   },
   "outputs": [
    {
     "data": {
      "text/plain": [
       "array([[ 0.88787452,  1.45162381, -0.92948536, ...,  0.40484008,\n",
       "         0.61666984,  0.3101562 ],\n",
       "       [-1.12628527, -0.2874854 ,  1.24448994, ...,  0.40484008,\n",
       "         0.61666984,  0.3101562 ],\n",
       "       [ 0.88787452,  0.06033644, -0.92948536, ...,  0.40484008,\n",
       "         0.61666984,  0.3101562 ],\n",
       "       ...,\n",
       "       [-1.12628527, -1.67877277,  1.24448994, ...,  0.40484008,\n",
       "        -1.62161328,  0.3101562 ],\n",
       "       [ 0.88787452, -1.33095093, -0.92948536, ...,  0.40484008,\n",
       "         0.61666984,  0.3101562 ],\n",
       "       [-1.12628527,  0.75598013,  1.24448994, ...,  0.40484008,\n",
       "        -1.62161328,  0.3101562 ]])"
      ]
     },
     "execution_count": 20,
     "metadata": {},
     "output_type": "execute_result"
    }
   ],
   "source": [
    "xtrain"
   ]
  },
  {
   "cell_type": "code",
   "execution_count": 21,
   "metadata": {
    "colab": {
     "base_uri": "https://localhost:8080/"
    },
    "id": "M_lf1p17X008",
    "outputId": "693e3570-9f6c-48c1-b661-94c93a461db6"
   },
   "outputs": [
    {
     "data": {
      "text/plain": [
       "146        Yes\n",
       "214    Partial\n",
       "500    Partial\n",
       "165    Partial\n",
       "323    Partial\n",
       "        ...   \n",
       "144    Partial\n",
       "645         No\n",
       "72     Partial\n",
       "235        Yes\n",
       "37     Partial\n",
       "Name: target, Length: 490, dtype: object"
      ]
     },
     "execution_count": 21,
     "metadata": {},
     "output_type": "execute_result"
    }
   ],
   "source": [
    "ytrain"
   ]
  },
  {
   "cell_type": "code",
   "execution_count": 22,
   "metadata": {
    "colab": {
     "base_uri": "https://localhost:8080/"
    },
    "id": "uvQmFQb1X2-l",
    "outputId": "759b2c92-4620-4628-e8d0-b684e3a1a861"
   },
   "outputs": [
    {
     "data": {
      "text/plain": [
       "array([[ 1.01432054, -1.7502145 , -0.99098325, ...,  0.38306544,\n",
       "         0.60107431,  0.28644595],\n",
       "       [ 1.01432054,  0.05474767, -0.99098325, ...,  0.38306544,\n",
       "         0.60107431,  0.28644595],\n",
       "       [ 1.01432054,  0.4157401 , -0.99098325, ...,  0.38306544,\n",
       "         0.60107431,  0.28644595],\n",
       "       ...,\n",
       "       [ 1.01432054,  1.13772497,  0.08683874, ...,  0.38306544,\n",
       "         0.60107431,  0.28644595],\n",
       "       [ 1.01432054,  0.77673253, -0.99098325, ...,  0.38306544,\n",
       "         0.60107431,  0.28644595],\n",
       "       [ 1.01432054,  0.4157401 , -0.99098325, ...,  0.38306544,\n",
       "         0.60107431,  0.28644595]])"
      ]
     },
     "execution_count": 22,
     "metadata": {},
     "output_type": "execute_result"
    }
   ],
   "source": [
    "xtest"
   ]
  },
  {
   "cell_type": "code",
   "execution_count": 23,
   "metadata": {
    "colab": {
     "base_uri": "https://localhost:8080/"
    },
    "id": "iV8zgQuYX7T4",
    "outputId": "fbf3b33d-8cc4-4aef-8944-8a5a8189ad5d"
   },
   "outputs": [
    {
     "data": {
      "text/plain": [
       "400        Yes\n",
       "552        Yes\n",
       "526    Partial\n",
       "648         No\n",
       "574    Partial\n",
       "        ...   \n",
       "681         No\n",
       "301        Yes\n",
       "579    Partial\n",
       "103    Partial\n",
       "529    Partial\n",
       "Name: target, Length: 211, dtype: object"
      ]
     },
     "execution_count": 23,
     "metadata": {},
     "output_type": "execute_result"
    }
   ],
   "source": [
    "ytest"
   ]
  },
  {
   "cell_type": "markdown",
   "metadata": {
    "id": "tPNMLrjTfdeS"
   },
   "source": [
    "Evaluating the Algorithm ***Decision tree***"
   ]
  },
  {
   "cell_type": "code",
   "execution_count": 24,
   "metadata": {
    "id": "gS337v7ZYD9e"
   },
   "outputs": [],
   "source": [
    "from sklearn.tree import DecisionTreeClassifier\n",
    "dtree = DecisionTreeClassifier()\n",
    "dtree = dtree.fit(xtrain,ytrain)"
   ]
  },
  {
   "cell_type": "code",
   "execution_count": 25,
   "metadata": {
    "colab": {
     "base_uri": "https://localhost:8080/"
    },
    "id": "AWu1MFIiYO31",
    "outputId": "7e94afae-bbcd-4492-d7f1-c8c10c4611a8"
   },
   "outputs": [
    {
     "name": "stdout",
     "output_type": "stream",
     "text": [
      "[[ 5  7  0]\n",
      " [ 6 99 12]\n",
      " [ 0  4 78]]\n",
      "              precision    recall  f1-score   support\n",
      "\n",
      "          No       0.45      0.42      0.43        12\n",
      "     Partial       0.90      0.85      0.87       117\n",
      "         Yes       0.87      0.95      0.91        82\n",
      "\n",
      "    accuracy                           0.86       211\n",
      "   macro avg       0.74      0.74      0.74       211\n",
      "weighted avg       0.86      0.86      0.86       211\n",
      "\n"
     ]
    }
   ],
   "source": [
    "y_pred = dtree.predict(xtest)\n",
    "print(confusion_matrix(ytest, y_pred))\n",
    "print(classification_report(ytest, y_pred))"
   ]
  },
  {
   "cell_type": "code",
   "execution_count": 26,
   "metadata": {
    "colab": {
     "base_uri": "https://localhost:8080/"
    },
    "id": "Gq8z2cijYat5",
    "outputId": "a92912f3-e382-4b54-d16d-18ec6c6b390d"
   },
   "outputs": [
    {
     "data": {
      "text/plain": [
       "0.8625592417061612"
      ]
     },
     "execution_count": 26,
     "metadata": {},
     "output_type": "execute_result"
    }
   ],
   "source": [
    "dtree.score(xtest,ytest)"
   ]
  },
  {
   "cell_type": "markdown",
   "metadata": {
    "id": "ycmt2vHxfOcZ"
   },
   "source": [
    "Evaluating the Algorithm ***KNN***"
   ]
  },
  {
   "cell_type": "code",
   "execution_count": 27,
   "metadata": {
    "colab": {
     "base_uri": "https://localhost:8080/"
    },
    "id": "odqy1LpLfqOv",
    "outputId": "abd1a6c4-98d9-4c89-f397-54992d7e72d1"
   },
   "outputs": [
    {
     "data": {
      "text/plain": [
       "KNeighborsClassifier(algorithm='auto', leaf_size=30, metric='minkowski',\n",
       "                     metric_params=None, n_jobs=None, n_neighbors=7, p=2,\n",
       "                     weights='uniform')"
      ]
     },
     "execution_count": 27,
     "metadata": {},
     "output_type": "execute_result"
    }
   ],
   "source": [
    "from sklearn.neighbors import KNeighborsClassifier\n",
    "knn = KNeighborsClassifier(n_neighbors=7)\n",
    "knn.fit(xtrain, ytrain)"
   ]
  },
  {
   "cell_type": "code",
   "execution_count": 28,
   "metadata": {
    "colab": {
     "base_uri": "https://localhost:8080/"
    },
    "id": "mOhHOwxCftT2",
    "outputId": "65b10155-0020-4fc3-ed91-f2d2a8f762f0"
   },
   "outputs": [
    {
     "name": "stdout",
     "output_type": "stream",
     "text": [
      "[[  5   7   0]\n",
      " [  3 111   3]\n",
      " [  0   4  78]]\n",
      "              precision    recall  f1-score   support\n",
      "\n",
      "          No       0.62      0.42      0.50        12\n",
      "     Partial       0.91      0.95      0.93       117\n",
      "         Yes       0.96      0.95      0.96        82\n",
      "\n",
      "    accuracy                           0.92       211\n",
      "   macro avg       0.83      0.77      0.80       211\n",
      "weighted avg       0.91      0.92      0.92       211\n",
      "\n"
     ]
    }
   ],
   "source": [
    "y_pred = knn.predict(xtest)\n",
    "print(confusion_matrix(ytest, y_pred))\n",
    "print(classification_report(ytest, y_pred))"
   ]
  },
  {
   "cell_type": "code",
   "execution_count": 29,
   "metadata": {
    "colab": {
     "base_uri": "https://localhost:8080/"
    },
    "id": "D9NawwE6f6Fn",
    "outputId": "0a91c054-6fd7-45e1-c22a-f4aacd5aaf9b"
   },
   "outputs": [
    {
     "data": {
      "text/plain": [
       "0.919431279620853"
      ]
     },
     "execution_count": 29,
     "metadata": {},
     "output_type": "execute_result"
    }
   ],
   "source": [
    "knn.score(xtest,ytest)"
   ]
  },
  {
   "cell_type": "markdown",
   "metadata": {
    "id": "1xnP8K07jtCu"
   },
   "source": [
    "Evaluating the Algorithm ***Naive Bayes***"
   ]
  },
  {
   "cell_type": "code",
   "execution_count": 30,
   "metadata": {
    "colab": {
     "base_uri": "https://localhost:8080/"
    },
    "id": "O-W6M4_NjzyZ",
    "outputId": "7a68c6e8-bd91-4fd5-81c3-c9d79a9c63b8"
   },
   "outputs": [
    {
     "data": {
      "text/plain": [
       "GaussianNB(priors=None, var_smoothing=1e-09)"
      ]
     },
     "execution_count": 30,
     "metadata": {},
     "output_type": "execute_result"
    }
   ],
   "source": [
    "from sklearn.naive_bayes import GaussianNB \n",
    "gnb = GaussianNB() \n",
    "gnb.fit(xtrain, ytrain) "
   ]
  },
  {
   "cell_type": "code",
   "execution_count": 31,
   "metadata": {
    "colab": {
     "base_uri": "https://localhost:8080/"
    },
    "id": "lNiWkUeJj34M",
    "outputId": "8434aab7-c2b2-4613-bd3a-0d63bab208e9"
   },
   "outputs": [
    {
     "name": "stdout",
     "output_type": "stream",
     "text": [
      "[[ 12   0   0]\n",
      " [  3 111   3]\n",
      " [  0  12  70]]\n",
      "              precision    recall  f1-score   support\n",
      "\n",
      "          No       0.80      1.00      0.89        12\n",
      "     Partial       0.90      0.95      0.92       117\n",
      "         Yes       0.96      0.85      0.90        82\n",
      "\n",
      "    accuracy                           0.91       211\n",
      "   macro avg       0.89      0.93      0.91       211\n",
      "weighted avg       0.92      0.91      0.91       211\n",
      "\n"
     ]
    }
   ],
   "source": [
    "y_pred = gnb.predict(xtest)\n",
    "print(confusion_matrix(ytest, y_pred))\n",
    "print(classification_report(ytest, y_pred))"
   ]
  },
  {
   "cell_type": "code",
   "execution_count": 32,
   "metadata": {
    "colab": {
     "base_uri": "https://localhost:8080/"
    },
    "id": "sm7p5Vy8kDdh",
    "outputId": "cc33b14e-64e9-4848-8050-79f6e7435f36"
   },
   "outputs": [
    {
     "data": {
      "text/plain": [
       "0.9146919431279621"
      ]
     },
     "execution_count": 32,
     "metadata": {},
     "output_type": "execute_result"
    }
   ],
   "source": [
    "gnb.score(xtest,ytest)"
   ]
  },
  {
   "cell_type": "markdown",
   "metadata": {
    "id": "qDOBvfx5mP_3"
   },
   "source": [
    "Evaluating the Algorithm ***SVM***"
   ]
  },
  {
   "cell_type": "code",
   "execution_count": 33,
   "metadata": {
    "colab": {
     "base_uri": "https://localhost:8080/"
    },
    "id": "2ZdNGSwWmTSo",
    "outputId": "e50bea57-b63f-4588-d545-a4d8891ff2ec"
   },
   "outputs": [
    {
     "data": {
      "text/plain": [
       "SVC(C=1.0, cache_size=200, class_weight=None, coef0=0.0,\n",
       "    decision_function_shape='ovr', degree=3, gamma='auto', kernel='rbf',\n",
       "    max_iter=-1, probability=False, random_state=None, shrinking=True,\n",
       "    tol=0.001, verbose=False)"
      ]
     },
     "execution_count": 33,
     "metadata": {},
     "output_type": "execute_result"
    }
   ],
   "source": [
    "from sklearn.svm import SVC\n",
    "sv=SVC(C=1.0, kernel='rbf', degree=3, gamma='auto')\n",
    "sv.fit(xtrain,ytrain)"
   ]
  },
  {
   "cell_type": "code",
   "execution_count": 34,
   "metadata": {
    "colab": {
     "base_uri": "https://localhost:8080/"
    },
    "id": "r6BwSH5fmYbe",
    "outputId": "be71790d-5edc-4b6b-cacb-724f1121d872"
   },
   "outputs": [
    {
     "name": "stdout",
     "output_type": "stream",
     "text": [
      "[[  7   5   0]\n",
      " [  1 112   4]\n",
      " [  0   8  74]]\n",
      "              precision    recall  f1-score   support\n",
      "\n",
      "          No       0.88      0.58      0.70        12\n",
      "     Partial       0.90      0.96      0.93       117\n",
      "         Yes       0.95      0.90      0.92        82\n",
      "\n",
      "    accuracy                           0.91       211\n",
      "   macro avg       0.91      0.81      0.85       211\n",
      "weighted avg       0.92      0.91      0.91       211\n",
      "\n"
     ]
    }
   ],
   "source": [
    "y_pred = sv.predict(xtest)\n",
    "print(confusion_matrix(ytest, y_pred))\n",
    "print(classification_report(ytest, y_pred))"
   ]
  },
  {
   "cell_type": "code",
   "execution_count": 35,
   "metadata": {
    "colab": {
     "base_uri": "https://localhost:8080/"
    },
    "id": "PEp-Fj6LmxM4",
    "outputId": "161ced1b-db96-4cbf-b960-ddbd6d823d58"
   },
   "outputs": [
    {
     "data": {
      "text/plain": [
       "0.9146919431279621"
      ]
     },
     "execution_count": 35,
     "metadata": {},
     "output_type": "execute_result"
    }
   ],
   "source": [
    "sv.score(xtest,ytest)"
   ]
  },
  {
   "cell_type": "markdown",
   "metadata": {
    "id": "_wYHGW4lnaXP"
   },
   "source": [
    "Evaluating the Algorithm ***Random Forest***"
   ]
  },
  {
   "cell_type": "code",
   "execution_count": 127,
   "metadata": {
    "colab": {
     "base_uri": "https://localhost:8080/"
    },
    "id": "imCkwGeRnfIo",
    "outputId": "5e94447b-5327-4aec-fe92-bf866f09f8e8"
   },
   "outputs": [
    {
     "data": {
      "text/plain": [
       "RandomForestClassifier(bootstrap=True, class_weight=None, criterion='gini',\n",
       "                       max_depth=None, max_features='auto', max_leaf_nodes=None,\n",
       "                       min_impurity_decrease=0.0, min_impurity_split=None,\n",
       "                       min_samples_leaf=1, min_samples_split=2,\n",
       "                       min_weight_fraction_leaf=0.0, n_estimators=100,\n",
       "                       n_jobs=None, oob_score=False, random_state=None,\n",
       "                       verbose=0, warm_start=False)"
      ]
     },
     "execution_count": 127,
     "metadata": {},
     "output_type": "execute_result"
    }
   ],
   "source": [
    "from sklearn.ensemble import RandomForestClassifier\n",
    "rf=RandomForestClassifier(criterion='gini',n_estimators=100)\n",
    "rf.fit(xtrain, ytrain)"
   ]
  },
  {
   "cell_type": "code",
   "execution_count": 128,
   "metadata": {
    "colab": {
     "base_uri": "https://localhost:8080/"
    },
    "id": "422X4ygXniRu",
    "outputId": "8f7a3eec-6b9a-4447-e76e-ad7f7c8462fa"
   },
   "outputs": [
    {
     "name": "stdout",
     "output_type": "stream",
     "text": [
      "[[  6   6   0]\n",
      " [  1 112   4]\n",
      " [  0   7  75]]\n",
      "              precision    recall  f1-score   support\n",
      "\n",
      "          No       0.86      0.50      0.63        12\n",
      "     Partial       0.90      0.96      0.93       117\n",
      "         Yes       0.95      0.91      0.93        82\n",
      "\n",
      "    accuracy                           0.91       211\n",
      "   macro avg       0.90      0.79      0.83       211\n",
      "weighted avg       0.91      0.91      0.91       211\n",
      "\n"
     ]
    }
   ],
   "source": [
    "y_pred = rf.predict(xtest)\n",
    "print(confusion_matrix(ytest, y_pred))\n",
    "print(classification_report(ytest, y_pred))"
   ]
  },
  {
   "cell_type": "code",
   "execution_count": 129,
   "metadata": {
    "colab": {
     "base_uri": "https://localhost:8080/"
    },
    "id": "23C6i6KontBm",
    "outputId": "f4084060-6d98-4d43-ce56-afdb87fdf56c"
   },
   "outputs": [
    {
     "data": {
      "text/plain": [
       "0.9146919431279621"
      ]
     },
     "execution_count": 129,
     "metadata": {},
     "output_type": "execute_result"
    }
   ],
   "source": [
    "rf.score(xtest,ytest)"
   ]
  },
  {
   "cell_type": "code",
   "execution_count": 130,
   "metadata": {
    "colab": {
     "base_uri": "https://localhost:8080/"
    },
    "id": "xVaZTYoDqoSR",
    "outputId": "e480df6f-edfd-4cf1-869c-76207e98483d"
   },
   "outputs": [
    {
     "name": "stdout",
     "output_type": "stream",
     "text": [
      "Decision Tree:  86.25592417061611 %\n",
      "KNN:  91.9431279620853 %\n",
      "Gaussian Naive Bayes:  91.4691943127962 %\n",
      "SVM:  91.4691943127962 %\n",
      "Random Forest:  91.4691943127962 %\n"
     ]
    }
   ],
   "source": [
    "print(\"Decision Tree: \", dtree.score(xtest,ytest)*100,\"%\")\n",
    "print(\"KNN: \",knn.score(xtest,ytest)*100,\"%\")\n",
    "print(\"Gaussian Naive Bayes: \", gnb.score(xtest,ytest)*100,\"%\")\n",
    "print(\"SVM: \", sv.score(xtest,ytest)*100,\"%\")\n",
    "print(\"Random Forest: \", rf.score(xtest,ytest)*100,\"%\")"
   ]
  },
  {
   "cell_type": "code",
   "execution_count": 131,
   "metadata": {},
   "outputs": [
    {
     "data": {
      "text/plain": [
       "0.9146919431279621"
      ]
     },
     "execution_count": 131,
     "metadata": {},
     "output_type": "execute_result"
    }
   ],
   "source": [
    "rf.score(xtest,ytest)"
   ]
  },
  {
   "cell_type": "code",
   "execution_count": null,
   "metadata": {},
   "outputs": [],
   "source": []
  }
 ],
 "metadata": {
  "colab": {
   "collapsed_sections": [],
   "name": "mental health prediction final.ipynb",
   "provenance": []
  },
  "kernelspec": {
   "display_name": "Python 3 (ipykernel)",
   "language": "python",
   "name": "python3"
  },
  "language_info": {
   "codemirror_mode": {
    "name": "ipython",
    "version": 3
   },
   "file_extension": ".py",
   "mimetype": "text/x-python",
   "name": "python",
   "nbconvert_exporter": "python",
   "pygments_lexer": "ipython3",
   "version": "3.8.10"
  }
 },
 "nbformat": 4,
 "nbformat_minor": 1
}
